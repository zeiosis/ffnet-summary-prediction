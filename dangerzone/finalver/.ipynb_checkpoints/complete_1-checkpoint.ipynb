{
 "cells": [
  {
   "cell_type": "markdown",
   "id": "d27f6e12",
   "metadata": {},
   "source": [
    "# Scraping"
   ]
  },
  {
   "cell_type": "markdown",
   "id": "bd8cebfe",
   "metadata": {},
   "source": [
    "Probably overfitting. Should get something like 15 pages per type; the set seems to be too small right now (accuracy highly fluctuating). Original took 3 pages per type, maybe 5x would fix it? "
   ]
  },
  {
   "cell_type": "code",
   "execution_count": 20,
   "id": "90a0df04",
   "metadata": {},
   "outputs": [],
   "source": [
    "from ff_analysis_tools import ffa, accuracy_statistics, ffcoll_to_df\n",
    "import pandas as pd"
   ]
  },
  {
   "cell_type": "code",
   "execution_count": 6,
   "id": "53ae995a",
   "metadata": {
    "scrolled": true
   },
   "outputs": [
    {
     "name": "stdout",
     "output_type": "stream",
     "text": [
      "Help on function ffa in module ff_analysis_tools:\n",
      "\n",
      "ffa(filename, tocsv_filename)\n",
      "    Creates a csv containing summary and genre information, one-hotted, from a raw text file.\n",
      "\n"
     ]
    }
   ],
   "source": [
    "help(ffa)"
   ]
  },
  {
   "cell_type": "code",
   "execution_count": 7,
   "id": "b548e5fb",
   "metadata": {},
   "outputs": [
    {
     "name": "stdout",
     "output_type": "stream",
     "text": [
      "Help on function accuracy_statistics in module ff_analysis_tools:\n",
      "\n",
      "accuracy_statistics(txt_src, csv_model_name_dict)\n",
      "    Returns a barh with information about accuracy of predictions. \n",
      "    txt_src: the original scraped text file\n",
      "    csv_model_name_dict: a dictionary containing information about the names of the csv prediction files and the names that will be shown in the chart. Should be formatted thus: {csv_predictions_file_1.csv: model_name_1, csv_predictions_file_2.csv: model_name_2 [...]}.\n",
      "\n"
     ]
    }
   ],
   "source": [
    "help(accuracy_statistics)"
   ]
  },
  {
   "cell_type": "code",
   "execution_count": 9,
   "id": "07491415",
   "metadata": {},
   "outputs": [
    {
     "name": "stdout",
     "output_type": "stream",
     "text": [
      "Help on function ffcoll_to_df in module ff_analysis_tools:\n",
      "\n",
      "ffcoll_to_df(filename, drop_rare=False)\n",
      "    basically just go on ffnet and control a control c everything into a txt file.\n",
      "    This works with multiple pages in one file as well.\n",
      "    returns a DataFrame from a .txt filename\n",
      "\n"
     ]
    }
   ],
   "source": [
    "help(ffcoll_to_df)"
   ]
  },
  {
   "cell_type": "markdown",
   "id": "21ddb6de",
   "metadata": {},
   "source": [
    "# Analysis"
   ]
  },
  {
   "cell_type": "markdown",
   "id": "7763608e",
   "metadata": {},
   "source": [
    "Goals: by-genre accuracy, by-popularity (favorites, etc) accuracy"
   ]
  },
  {
   "cell_type": "code",
   "execution_count": 18,
   "id": "cb0d2da4",
   "metadata": {},
   "outputs": [
    {
     "name": "stdout",
     "output_type": "stream",
     "text": [
      "General            0.0\n",
      "Western            4.0\n",
      "Crime             34.0\n",
      "Spiritual         34.0\n",
      "Poetry            82.0\n",
      "Mystery           82.0\n",
      "Horror            94.0\n",
      "Suspense         107.0\n",
      "Parody           111.0\n",
      "Sci_Fi           194.0\n",
      "Supernatural     196.0\n",
      "Tragedy          215.0\n",
      "Fantasy          254.0\n",
      "Adventure        526.0\n",
      "Drama            746.0\n",
      "Angst            847.0\n",
      "Family          1130.0\n",
      "Friendship      1185.0\n",
      "Hurt_Comfort    1372.0\n",
      "Humor           1432.0\n",
      "Romance         3051.0\n",
      "dtype: object\n",
      "500\n",
      "0.0\n",
      "1.4768867227883622\n",
      "2.9537734455767244\n",
      "4.430660168365087\n",
      "5.907546891153449\n",
      "7.384433613941812\n",
      "8.861320336730174\n",
      "10.338207059518535\n",
      "11.815093782306898\n",
      "13.29198050509526\n",
      "14.768867227883623\n",
      "16.245753950671986\n",
      "17.722640673460347\n",
      "19.19952739624871\n",
      "20.67641411903707\n",
      "22.153300841825434\n",
      "23.630187564613795\n",
      "25.107074287402153\n",
      "26.58396101019052\n",
      "28.060847732978882\n",
      "29.537734455767247\n",
      "31.014621178555608\n",
      "32.49150790134397\n",
      "33.96839462413233\n",
      "35.445281346920694\n",
      "36.92216806970905\n",
      "38.39905479249742\n",
      "39.87594151528578\n",
      "41.35282823807414\n",
      "42.8297149608625\n",
      "44.30660168365087\n",
      "45.783488406439226\n",
      "47.26037512922759\n",
      "48.73726185201595\n",
      "50.214148574804305\n",
      "51.69103529759268\n",
      "53.16792202038104\n",
      "54.644808743169406\n",
      "56.121695465957764\n",
      "57.59858218874613\n",
      "59.07546891153449\n",
      "60.55235563432285\n",
      "62.029242357111215\n",
      "63.50612907989957\n",
      "64.98301580268794\n",
      "66.4599025254763\n",
      "67.93678924826466\n",
      "69.41367597105302\n",
      "70.89056269384139\n",
      "72.36744941662975\n",
      "73.8443361394181\n",
      "75.32122286220647\n",
      "76.79810958499483\n",
      "78.2749963077832\n",
      "79.75188303057156\n",
      "81.22876975335991\n",
      "82.70565647614828\n",
      "84.18254319893664\n",
      "85.659429921725\n",
      "87.13631664451337\n",
      "88.61320336730174\n",
      "90.09009009009009\n",
      "91.56697681287845\n",
      "93.04386353566682\n",
      "94.52075025845518\n",
      "95.99763698124355\n",
      "97.4745237040319\n",
      "98.95141042682026\n",
      "AxesSubplot(0.125,0.125;0.775x0.755)\n"
     ]
    },
    {
     "data": {
      "image/png": "[encoded data removed]",
      "text/plain": [
       "<Figure size 432x288 with 1 Axes>"
      ]
     },
     "metadata": {
      "needs_background": "light"
     },
     "output_type": "display_data"
    }
   ],
   "source": [
    "ffa(\"ff_dump_final.txt\", \"ff_dump_final\")"
   ]
  },
  {
   "cell_type": "code",
   "execution_count": 21,
   "id": "5dab2b7a",
   "metadata": {},
   "outputs": [],
   "source": [
    "training_df = pd.read_csv(\"ff_dump_final.csv\")"
   ]
  },
  {
   "cell_type": "code",
   "execution_count": 22,
   "id": "6152d315",
   "metadata": {},
   "outputs": [
    {
     "data": {
      "text/html": [
       "<div>\n",
       "<style scoped>\n",
       "    .dataframe tbody tr th:only-of-type {\n",
       "        vertical-align: middle;\n",
       "    }\n",
       "\n",
       "    .dataframe tbody tr th {\n",
       "        vertical-align: top;\n",
       "    }\n",
       "\n",
       "    .dataframe thead th {\n",
       "        text-align: right;\n",
       "    }\n",
       "</style>\n",
       "<table border=\"1\" class=\"dataframe\">\n",
       "  <thead>\n",
       "    <tr style=\"text-align: right;\">\n",
       "      <th></th>\n",
       "      <th>Unnamed: 0</th>\n",
       "      <th>Summary</th>\n",
       "      <th>Adventure</th>\n",
       "      <th>Angst</th>\n",
       "      <th>Drama</th>\n",
       "      <th>Family</th>\n",
       "      <th>Friendship</th>\n",
       "      <th>Humor</th>\n",
       "      <th>Hurt_Comfort</th>\n",
       "      <th>Romance</th>\n",
       "    </tr>\n",
       "  </thead>\n",
       "  <tbody>\n",
       "    <tr>\n",
       "      <th>6438</th>\n",
       "      <td>6764</td>\n",
       "      <td>Drabble. Basically lines stolen from the show.</td>\n",
       "      <td>1.0</td>\n",
       "      <td>0.0</td>\n",
       "      <td>0.0</td>\n",
       "      <td>0.0</td>\n",
       "      <td>0.0</td>\n",
       "      <td>1.0</td>\n",
       "      <td>0.0</td>\n",
       "      <td>0.0</td>\n",
       "    </tr>\n",
       "    <tr>\n",
       "      <th>6439</th>\n",
       "      <td>6766</td>\n",
       "      <td>AU for BTVS Season 6. What if Giles had come t...</td>\n",
       "      <td>0.0</td>\n",
       "      <td>0.0</td>\n",
       "      <td>0.0</td>\n",
       "      <td>0.0</td>\n",
       "      <td>1.0</td>\n",
       "      <td>0.0</td>\n",
       "      <td>0.0</td>\n",
       "      <td>1.0</td>\n",
       "    </tr>\n",
       "    <tr>\n",
       "      <th>6440</th>\n",
       "      <td>6767</td>\n",
       "      <td>A small oneshot from the point of view of Spik...</td>\n",
       "      <td>1.0</td>\n",
       "      <td>0.0</td>\n",
       "      <td>0.0</td>\n",
       "      <td>0.0</td>\n",
       "      <td>0.0</td>\n",
       "      <td>0.0</td>\n",
       "      <td>0.0</td>\n",
       "      <td>0.0</td>\n",
       "    </tr>\n",
       "    <tr>\n",
       "      <th>6441</th>\n",
       "      <td>6768</td>\n",
       "      <td>A Slayer stands vigil... (FutureFic)</td>\n",
       "      <td>0.0</td>\n",
       "      <td>0.0</td>\n",
       "      <td>0.0</td>\n",
       "      <td>0.0</td>\n",
       "      <td>0.0</td>\n",
       "      <td>1.0</td>\n",
       "      <td>0.0</td>\n",
       "      <td>1.0</td>\n",
       "    </tr>\n",
       "    <tr>\n",
       "      <th>6442</th>\n",
       "      <td>6770</td>\n",
       "      <td>AU. They've fought vampires and demons and hav...</td>\n",
       "      <td>0.0</td>\n",
       "      <td>1.0</td>\n",
       "      <td>0.0</td>\n",
       "      <td>0.0</td>\n",
       "      <td>0.0</td>\n",
       "      <td>0.0</td>\n",
       "      <td>1.0</td>\n",
       "      <td>0.0</td>\n",
       "    </tr>\n",
       "  </tbody>\n",
       "</table>\n",
       "</div>"
      ],
      "text/plain": [
       "      Unnamed: 0                                            Summary  \\\n",
       "6438        6764     Drabble. Basically lines stolen from the show.   \n",
       "6439        6766  AU for BTVS Season 6. What if Giles had come t...   \n",
       "6440        6767  A small oneshot from the point of view of Spik...   \n",
       "6441        6768               A Slayer stands vigil... (FutureFic)   \n",
       "6442        6770  AU. They've fought vampires and demons and hav...   \n",
       "\n",
       "      Adventure  Angst  Drama  Family  Friendship  Humor  Hurt_Comfort  \\\n",
       "6438        1.0    0.0    0.0     0.0         0.0    1.0           0.0   \n",
       "6439        0.0    0.0    0.0     0.0         1.0    0.0           0.0   \n",
       "6440        1.0    0.0    0.0     0.0         0.0    0.0           0.0   \n",
       "6441        0.0    0.0    0.0     0.0         0.0    1.0           0.0   \n",
       "6442        0.0    1.0    0.0     0.0         0.0    0.0           1.0   \n",
       "\n",
       "      Romance  \n",
       "6438      0.0  \n",
       "6439      1.0  \n",
       "6440      0.0  \n",
       "6441      1.0  \n",
       "6442      0.0  "
      ]
     },
     "execution_count": 22,
     "metadata": {},
     "output_type": "execute_result"
    }
   ],
   "source": [
    "training_df.tail()"
   ]
  },
  {
   "cell_type": "code",
   "execution_count": null,
   "id": "2eea3c14",
   "metadata": {},
   "outputs": [],
   "source": [
    "#normalize unnamed:0 col"
   ]
  }
 ],
 "metadata": {
  "kernelspec": {
   "display_name": "Python 3 (ipykernel)",
   "language": "python",
   "name": "python3"
  },
  "language_info": {
   "codemirror_mode": {
    "name": "ipython",
    "version": 3
   },
   "file_extension": ".py",
   "mimetype": "text/x-python",
   "name": "python",
   "nbconvert_exporter": "python",
   "pygments_lexer": "ipython3",
   "version": "3.9.7"
  }
 },
 "nbformat": 4,
 "nbformat_minor": 5
}

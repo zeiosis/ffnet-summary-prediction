{
 "cells": [
  {
   "cell_type": "code",
   "execution_count": 18,
   "id": "b7cde048",
   "metadata": {},
   "outputs": [],
   "source": [
    "from ff_analysis_tools import ffcoll_to_df, ffdict_to_df\n",
    "import pandas as pd\n",
    "import ast"
   ]
  },
  {
   "cell_type": "code",
   "execution_count": 2,
   "id": "6c13c4da",
   "metadata": {},
   "outputs": [
    {
     "name": "stdout",
     "output_type": "stream",
     "text": [
      "{\"(One-Shot) Rin notices Sesshomaru's softer side! Rin's point of view older Rin. (Edited for Mistakes)\": ['Humor', 'Romance'], 'A one-shot about how Inuyasha sees Kagome looking at him. Very small, and in his point of view. (Edited for Mistakes)': ['Humor', 'Romance'], \"Kagome comes home to study for an exam but only Sota is home. Grandpa hurt his back and Kagome's mother is staying the night in the hospital. Sota asks a crazy request for his sister. What will Kagome do with Inuyasha in the house with her? Sucky summary. Just read to see what it is.\": ['Family', 'Romance'], 'Do you ever wonder what it would be like if Sesshomaru, Inu yokai Lord of the West, the Killing Perfection, had a pretty little necklace of subjugation?': ['Humor'], \"Beyond the cypress trees and the rivers winding through the lowermost valley, Sesshomaru wanders into a secluded, tiny village. Not so long ago, his demonic and hauntingly beautiful appearance would have startled them. Perhaps he's gotten too accustomed to visitation. /Post-Canon. Sessrin. Standalone.\": ['Romance', 'Fantasy'], 'Just another Inuyasha Christmas story with a twist.': ['Family'], 'Sesshomaru is left only with longing and pain, wishing for his light when Kagome comes his way, once again.': ['Romance', 'Drama'], \"A/U One-shot Complete! Kagome and Inuyasha have been married for eight years and have become a little complacent in their relationship with each other. This story explores the complex nature of balancing careers and family, acknowledging that it isn't always easy to try and meet in the middle.\": ['Romance'], 'A good book and an impatient woman. A brief story told in simple words.': ['Romance', 'Poetry'], 'One day Inuyasha gets a abusive step mother who takes him out of school and forces him to do her bidding. As a way to earn money to give to his step mother and cope with his situation he goes on a new journey to secretly become a popular musician and earn enough money to save for himself so that he could one day run away.': ['Fantasy', 'Hurt_Comfort'], 'When Kikyo was alive, she had to repress her desires in order to remain a dutiful priestess. After her death she was able to vent her honesty and feelings that she repressed when she was alive. Showing her love for the half demon she fell for. InuKik, InuYashaxKikyo, Minor InuKag, Minor Kikyo/Kagome, *Oneshot* fluff, feels, time skip': ['Romance', 'Angst'], 'Kagame is left out in the cold for way too long and because of it, she suffers from an extreme case of hypothermia. Due to it, Inuyasha has to be in a very uncomfortable situation.': ['Romance', 'Hurt_Comfort'], '\"He steeps her tea in Angel\\'s Trumpet and stays awake all night to listen to her scream.\" Captured by Lord Naraku and raised to be a deadly killer in his wicked war, Kagome was never meant to survive. Not, at least, until the school\\'s poison master takes a special interest in her case. A small, ugly story about a small, ugly man. Mukotsu-centric. SessKag ending. Oneshot.': ['Drama', 'Romance'], \"It's a new school year for Kagome and her friends. But then a newcomer attends the same one. Not just that, that person might have an unknown connection to Kagome.\": ['Romance', 'Family'], 'A short story including flashbacks about first love and loss. When Sesshomaru was younger, he befriended Kagome, an inu-hanyou with an incurable disease. Now 50 years later, he spends a day reminiscing on their childhood, recalling all the memories the two of them shared.': ['Romance', 'Friendship'], \"Just a silly little story about what happens when Sesshomaru encounters a piece of technology from Kagome's world.\": ['Humor'], 'Kagome gave her number to the wrong guy. Fortunately, Sango and the gang, including a pretty jealous Inuyasha, are there to take care of the situation. High-school AU, Inukag, one-shot.': ['Humor', 'Romance'], 'Fluffy short about a cold evening during Sesshomaru and Rins travels together.': ['Romance'], '\"Whatever our souls are made of...\" The quest is over. Inuyasha is dead. Happily-ever-afters have been handed out at random. Kikyo and Kagome are trapped alone in a time they don\\'t belong in with one soul between them. A short story of love, loss, and things left behind. KagKik. Yuri.': ['Romance', 'Tragedy'], 'From Chap 8 of my \"Ever Us\". Please find a bit of elaboration on the \"colossal marital fight of the century\" where Inuyasha told Sesshomaru that he would hug their children or else. Tessaiga clashing with Tenseiga with such intensity that the earth shook. This story from Professor Kenichi Takahashi\\'s pen. AU/yaoi/Inucest Action genre': ['Romance', 'Family'], 'Sesshomaru contemplates his past, his motivations and his future.': ['Hurt_Comfort', 'Family'], 'Amelia has no other way to convey the feelings that swirl and twirl in her chest, delicately. *Nyo!America.* *Inspired by a prompt for AmeLiet Week 2019, Day Seven.*': ['Romance', 'Family'], '\"I\\'m Gilbert. Would you like to travel the universe with me?\" - In which they do exactly that.': ['Romance', 'Poetry'], \"Not all love is given the chance to grow; some of it might be tended to for a little while before it was left abandoned, and some wilted even when they were taken good care of. Unfortunately for them, theirs was the latter, and even if it's a sad fact, what they had among the breaks is a hopeless love. They learn to accept it after some time.\": ['Romance', 'Sci_Fi'], \"Germany and Prussia have never felt able to express their frustrations with one another. Finally, they're able to have the heart-to-heart their family desperately needed for either of them to move on and heal.\": ['Romance', 'Friendship'], 'Kiku Honda didn\\'t need to look out towards the sea to know who had arrived onto his shores. An arrogant voice calls out to him - \"Shouldn\\'t you be offering me tea right about now?\"': ['Family', 'Hurt_Comfort'], \"Alfred asks something during a sleepover with Kiku. He doesn't take it well.\": ['Romance', 'Friendship'], 'With states seriously considering the Green New Deal, one state makes a stand. (This is based off something that actually happened. I tried to make it as accurate as possible. Warning for politics?)': ['Romance'], 'A young Aurel Popescu attempts to take on the most difficult task of his time- math homework. When his brother, Vladimir Popescu, prefers not to do it for him, Aurel decides to go to his favorite neighbor, Katyusha.': ['Angst', 'Drama'], \"Arthur and Alfred wait for Francis and Matthew to join them for lunch, and while waiting, Alfred decides it's time to share some drastic ideas he's been toying with lately. Arthur does his best to convince the former revolutionary from starting what he is certain would be the approaching acts to a much darker world than the one innocent minds know.\": ['Romance', 'Friendship'], 'Little Germany is ill and tries to hide it from his big brother.': ['Drama', 'Hurt_Comfort'], \"When I stared in the mirror, I didn't know who I was looking at. There was a stranger looking at me. Her face too round, her body too feminine. She was not me. She was someone I had been posing as and I couldn't stand the sight of her.\": ['Drama', 'Romance'], 'America (and Canada) finds the Yanny Laurel clip. What will happen?': ['Romance', 'Drama'], 'A one shot of a Mermaid AU. Read it to find out more. Please R&R and hope you like it': ['Romance', 'Humor'], \"Orihime wonders what Ulquiorra's Past is like, She finds out when she gets transported to the past. Ulquihime One-Shot\": ['Parody', 'Humor'], \"Oneshot. Pre TYBW arc, canon divergent. ShuuHina-centric, mentioned badship AiHina, mentioned platonic ShuuKiraRanHina. Rated T for mentions of sexual abuse & NSFW. /She is unused to feeling anything that isn't pain./\": ['Family', 'Adventure'], '\"The Sealed King of the Quincy regained his heartbeat again after 900 years, his intellect after 90 years, his power after 9 years, and the world after 9 days.\" The Last 9 days are upon Soul Society, and Yhwach has won. With his will broken and his sword shattered, Ichigo must stand again to face the Quincy emperor. A retelling of the end of the Thousand Year Blood War.': ['Romance', 'Angst'], 'On a particularly cold night, Orihime is feeling homesick and refuses to eat. A certain Espada is not happy about this...(Oneshot)': ['Romance', 'Family'], 'A short drabble. Ichihime.': ['Romance', 'Friendship'], 'Yammy confesses to Ulquiorra': ['Family', 'Tragedy'], 'An IH drabble Ichihime and a blow pop.': ['Romance', 'Friendship'], \"Ichigo's thoughts while under Orihihime's healing powers. IchiHime fluff/angst. Little bit drabbley... This was my first time writing them!\": ['Angst', 'Family'], \"Rukia's good at kido. Ichigo's good at learning.\": ['Family'], 'How do you have to order your alleles, he wonders, to get that shade of heart-stopping blue— [Ichiruki] [686 compliant]': ['Friendship', 'Romance'], 'Orihime runs from her responsibility as the miko and enters the forbidden forest. UlquiHime, One-shot': ['Romance', 'Hurt_Comfort'], 'The easiest heart to break is your own.': ['Humor'], \"Neliel exposes the Sexta's softer, much more vulnerable side. GrimmNel short.\": ['Adventure', 'Romance'], \"Hisana lives in the rukongai, it's a young girl who fighting to survive in this hard and ruthless world. This is what will lead her to abandon her little sister, Rukia. A sad OS wich tells the past of that who became the wife of Byakuya\": ['Romance', 'Fantasy'], 'AU. \"Really, Shiro? Really? In my apartment?\" \"Your window had the best angle. Also, you knew what you were getting into.\" \"Only after you said \\'Oh, by the way, I\\'m an assassin, so if you ever need anyone taken out, you know a guy!\"': ['Hurt_Comfort', 'Romance'], \"The shihakushou is the traditional garb of the shinigami. That didn't mean every shinigami wore theirs the same way, least of all Ichigo Kurosaki.\": ['Hurt_Comfort', 'Drama'], \"'I need a weapon, I need to do something.' She looked down and her eyes widened at what was below her on the ground, Zangetsu, knocked away earlier from Ichigo's hands rested in front of her. 'I need to do something...something that Ichigo would do.'\": ['Supernatural', 'Angst'], \"Ichigo doesn't really care about flowers, but he needs the job and it's hard because his boss is way too crazy over them but he really needs the money. He guesses. Florist AU\": ['Angst', 'Romance'], 'Szayelaporro muses about his older brother, Yylfordt Granz, and the relationship that they shared. More than that, the past and how they had struggled so much before. Szayel/Yylfordt... Granzcest, if you will. Mentions of cancer & character death': ['Family', 'Hurt_Comfort'], 'Stories about Aizen/Szayel. Chapter 1 is about Aizen pulling Szayel away from his research to rest. Chapter 2 is a \"typical\" fall hayride.': ['Romance'], 'After defeating the Water Dragon God, Team Natsu is headed to Tekka to continue their 100 year quest when they run into a traveling storytelling group who reveal to them the legends of the forest around them. What will they do when stories become reality and Lucy stumbles upon a forgotten creature that lay dormant for eons? *WARNING: SPOILERS for 100 year quest up to chapter 25.*': ['Romance'], \"Theories that I have about some events and characters in Fairy Tail. Let me know if they seem legit or possible. Keep in mind that they're only theories.\": ['Humor', 'Romance'], 'As Lucy Heartfilia struggles to go to sleep, she begans to reflect upon her life since joining Fairy Tail specifically her relationship with a certain pink-haired Fire Wizard.': ['Romance', 'Friendship'], 'This is not a story. Just a theory, something to think about and an apology.': ['Romance'], \"A collection of tumblr requests and short Fairy Tail drabbles. / Each chapter will be marked by pairing [' is platonic, 'x' is romantic] and will have trigger warnings as necessary. / Find me on tumblr (and submit requests) at @splendidlyimperfect\": ['Angst', 'Family'], \"When a taxi refuses to take Sting to the airport because they won't accept his service dog, a charming stranger named Rogue offers to drive him instead. The act of kindness gets Sting home to his brother Natsu and the rest of his family in time for Christmas, but Sting can't help hoping that he'll run into Rogue again.\": ['Spiritual', 'Romance'], 'Whenever Lucy and Natsu spar with each other Cana find them in scandalous compromising position. What is actually going on between the two of them who are always fighting and bickering together.. Read and find out.': ['Drama', 'Angst'], 'i need help finding a story about lucy and zen pradesh i know im not meant to post this stuff but im desperate': ['Drama', 'Hurt_Comfort'], \"Just a bunch of kawaii little oneshots I make when I'm bored :)\": ['Family', 'Hurt_Comfort'], 'While they teased Lucy about Natsu, the white mage chose her next host. (Gruvia/NaLu) (Fluff/Angst) (FT 100 years quest) (chapter 43) (Plot Twist)': ['Crime', 'Drama'], 'When Gajeel fails to protect Levy from non other than himself, will Levy be able to convince him to stay? Or is this where our favorite couple says goodbye? Gajeel/Levy': ['Humor', 'Friendship'], \"Natsu protected Lucy from a job, so Lucy wanted to pay him back after he got himself hurt. While she's bandaging him up, she finds herself feeling guilty about what has happened. Can Natsu make her feel better? Or will her emotions get the better of her?\": ['Tragedy', 'Humor'], 'An other Announcement': ['Romance'], 'She was the Queen of The Fairies, glowing bright for all to see. He was the former criminal and current fugitive, lurking in the shadows always watching out for her, protecting her. But what happens, once the glowing brightness and the shadows clash together? JERZA.': ['Hurt_Comfort', 'Family'], 'Zeref Dragneel is a cold and greedy business man who pushes away his loving brother Natsu and mistreats his hard working employee Gray but one Christmas Eve night he meets three spirits who are determined to change his views on life forever.': ['Romance', 'Hurt_Comfort'], 'Erza weighs her strengths and failures. Jellal helps. - Part of the Remember Me series.': ['Romance'], 'Based on something Mira said in an old manga extra. One-shot.': ['Adventure'], \"Sting and Ryos spend their first Christmas with their foster son, Noah, and end up with some big news for their family. / **part of the 'only hope for me is you' universe, see profile for links**\": ['Angst', 'Hurt_Comfort'], \"Yuugi and his two friends go to a long abandoned cabin to fulfill a dying grandfather's final wish… But why are they there? What is so important about this strange, eerie house? …and what will be the cost of finding out? [AU Puzzleshipping, Puffshipping]\": ['Tragedy', 'Hurt_Comfort'], 'Turns out Liam was a fan of Seto': ['Romance'], \"While at Anzu's house, a cat pounces on Yami, which brings back old memories of being in Egypt.\": ['Angst', 'Romance'], \"There's a new nightclub in town and everyone's going to be there. Even Seto Kaiba. Light Seto x Jounouchi. Story inspired by a picture.\": ['Hurt_Comfort', 'Angst'], '\"Let\\'s just say, I\\'m repaying a debt.\"': ['Romance', 'Family'], \"In which Seto Kaiba is offered the Sennen Rod, makes some realizations, and comes to conclusions he isn't entirely fond of. He is certain Yugi Mutou has it out for his sanity. He just can't prove it.\": ['Friendship', 'Romance'], \"As the evening pushes into the night, Seto finds himself alone with a stranger. Inspired by Vienna Teng's 'Recessional'.\": ['Romance', 'Family'], 'Mokuba and Seto have a bike race... with a twist.': ['Romance', 'Drama'], 'A short story where Ryou takes Yami Bakura (Bakura), Marik and Yami Marik (Kek) on a flying fox! Yay! Rated T for swearing and nothing else Please enjoy!': ['Parody', 'Humor'], \"Yami's friends introduce him to movie nights, and he introduces them to his thoughts on what they choose. One-shot.\": ['Romance', 'Hurt_Comfort'], \"Blind!YugixYami One-Shot Yugi attending Yami's art class. They get to know each other through their artand while they are talking Yami finds out more about Yugi.\": ['Romance', 'Humor'], 'An anonymous figure referring to themselves as \"Atem\" threatens to expose the secrets of the past that Seto thought he had buried long ago. Meanwhile, a security consultant named Kisara uncovers a despicable scheme at a local orphanage with all of the evidence pointing to Seto as the mastermind.': ['Poetry'], 'Will Joey dying bring him and Seto closer than ever before? This is a puppyshipping, and character death.': ['Romance'], '\"You\\'re in charge now, Mokuba.\" Mokuba has watched Seto hurt himself for too long, and finally decides that enough is enough. (spoilers for Dark Side of Dimensions)': ['Romance', 'Angst'], '\"Instead of taking it easy after all that fighting, he was back at it again wearing his body out. Punching imaginary aliens. Making that dumb face.\" Chi-Chi reflects on growing older while her husband continues to abuse his body after the tournament between Universe 6 and Universe 7. How can words explain it when food can\\'t? One-shot dedicated to GoChi.': ['Spiritual', 'Family'], \"Of all the things Yamcha loves about his boyfriend, he loves Tien's arms the most. (Written for Tiencha Day 2016)\": ['Family', 'Hurt_Comfort'], 'During a martial arts tournament Videl, her best friend Erasa, and her shy new friend Gohan get caught in the middle of multiple world-threatening foes. Gohan will have to overcome several demons, both physical and psychological, to be the hero that his father was once before him and save the world. Very alternate Majin Buu storyline. More Dabura, no fusion/Ultimate Gohan.': ['Romance'], 'There is a battle that many wondered about during the Android Saga. That battle was Vegeta against Piccolo, the Last Saiyan Prince against the Namekian Demon Spawn of King Piccolo though what-if, on a night before the Cell Games, the Saiyan Elite stared down the Namekian Fusion, Vegeta stared down Piccolo? Disclaimer: DB/Z/ and GT belong to Akira Toriyama, Fuji TV, Toei, etc.': ['Poetry', 'Fantasy'], 'Raditz and Mary get ready for their wedding after Goku\\'s death. Continuation of \"What Have You Done?\", \"Mating Moon\", and \"New Moon\". Rated for language and suggestive content. Raditzxoc': ['Family', 'Friendship'], 'After being taken by Frieza, Goten has no memory of his past. Upon returning to Earth to destroy it, he comes across an old friend. Can Trunks save Goten or will the darkness claim him? NOT YAOI. Coauthored by pikatrebond.': ['Angst'], \"18 and Krillin take Marron to meet 17 for the first time, but something's wrong? Can 18 and the others save him? Inspired by the Super 17 Saga (loosely), but I also briefly brought in my own character Disclaimer: This is a Fanfiction. Dragon Ball, Dragon Ball Z and Dragon Ball GT are all owned by Funimation, Toei Animation, Fuji T.V. and Akira Toriyama\": ['Horror', 'Drama'], 'For Vegeta, old habits die hard.': ['Romance', 'Drama'], 'That moment Vegeta finally realized why her surname is Briefs. (Crack- no pun intended, lmao)': ['Romance'], 'Only five prompts this time. I wrote for all but the fourth prompt. Word limit 400 and drabbles are based off of images. The theme was war; all but one image had secondary fantasy theme going on for them. Nothing explicit here, all SFW stuff.': ['Hurt_Comfort', 'Friendship'], \"Bulma is having doubts about Vegeta's feelings for her. Does he really care or is her love one-sided? Chi Chi has an idea to help Bulma discover the truth of the matter.\": ['Drama'], \"Trunks goes back to the past with Goku and Vegeta, but he gets surprised when a certain someone is waiting there for him. But it won't be like last time, sharing a can of meat with a cat wanting cuddles. It won't be the big reunion that he had hoped for, but can he have some hope to at least smile?\": ['Friendship'], 'King Piccolo one-shot. Set when Piccolo Daimao is still the Nameless Namekian, at the moment when Katas decided to send him away.': ['Hurt_Comfort', 'Friendship'], \"Some REALLY dumb people decide to attempt to assassinate the head of their chief corporate rival, Capsule Corporation. It...doesn't go well. For them. Warning: somewhat graphic imagery. Take a shot at it though! Let me know if the rating is too low, please.\": ['Humor', 'Romance'], 'Sequel to Bardock Son of Gohan. A year has passed since Bardock made it back to his own timeline. He and Pan are now going to school, trying to live a peaceful life. Unfortunately, what happens in one known timeline must also happen in the next known one. How will the two handle it when they have to face Majin Buu again? This time a few curve balls are thrown in as well.': ['Romance'], 'A fun and interesting AU, where all the DBZ characters go to school. It is my very first fanfic! I have focused mainly on GxCC, but will try to add BxV, Kx18 and TxL. Please enjoy reading it as much as I enjoyed writing it. (Rated T just in case.) DISCONTINUED': ['Family', 'Friendship'], 'The Cell games is in ten days. Gohan seems to think Gero was too smart not to have another lab so he goes off to find it, but things don\\'t go according to plan. Gohan gets captured by a crazy scientist who wants to experiment on him. Will Gohan escape? How will this effect him? \"I do not own dragon ball z or any of the characters. I think thats pretty obvious.\"': ['Humor'], 'Saiyaman and Videl enjoy a short afternoon walk together, with plenty of embarrassment occurring between them.': ['Romance', 'Hurt_Comfort'], 'A new type of Fighting Tournament has been created.': ['Humor', 'Friendship'], 'I am looking at things from a far higher perspective than you. I observe this world, this universe, the truth of all things. And I have realized mortals must be destroyed. Out of all which the gods have made, mortals are their sole failure. To create a utopia, I must remove mortals in the place of Gods who refuse to admit their mistake! Goku Black One-Shots!': ['Drama']}\n"
     ]
    }
   ],
   "source": [
    "df1 = ffcoll_to_df('ff_dump_final_3.txt', drop_rare=True)"
   ]
  },
  {
   "cell_type": "code",
   "execution_count": 3,
   "id": "7251e33c",
   "metadata": {
    "scrolled": true
   },
   "outputs": [
    {
     "data": {
      "text/html": [
       "<div>\n",
       "<style scoped>\n",
       "    .dataframe tbody tr th:only-of-type {\n",
       "        vertical-align: middle;\n",
       "    }\n",
       "\n",
       "    .dataframe tbody tr th {\n",
       "        vertical-align: top;\n",
       "    }\n",
       "\n",
       "    .dataframe thead th {\n",
       "        text-align: right;\n",
       "    }\n",
       "</style>\n",
       "<table border=\"1\" class=\"dataframe\">\n",
       "  <thead>\n",
       "    <tr style=\"text-align: right;\">\n",
       "      <th></th>\n",
       "      <th>Summary</th>\n",
       "      <th>Adventure</th>\n",
       "      <th>Angst</th>\n",
       "      <th>Drama</th>\n",
       "      <th>Family</th>\n",
       "      <th>Friendship</th>\n",
       "      <th>Humor</th>\n",
       "      <th>Hurt_Comfort</th>\n",
       "      <th>Romance</th>\n",
       "    </tr>\n",
       "  </thead>\n",
       "  <tbody>\n",
       "    <tr>\n",
       "      <th>0</th>\n",
       "      <td>(One-Shot) Rin notices Sesshomaru's softer sid...</td>\n",
       "      <td>0.0</td>\n",
       "      <td>0.0</td>\n",
       "      <td>0.0</td>\n",
       "      <td>0.0</td>\n",
       "      <td>0.0</td>\n",
       "      <td>1.0</td>\n",
       "      <td>0.0</td>\n",
       "      <td>1.0</td>\n",
       "    </tr>\n",
       "    <tr>\n",
       "      <th>1</th>\n",
       "      <td>A one-shot about how Inuyasha sees Kagome look...</td>\n",
       "      <td>0.0</td>\n",
       "      <td>0.0</td>\n",
       "      <td>0.0</td>\n",
       "      <td>0.0</td>\n",
       "      <td>0.0</td>\n",
       "      <td>1.0</td>\n",
       "      <td>0.0</td>\n",
       "      <td>1.0</td>\n",
       "    </tr>\n",
       "    <tr>\n",
       "      <th>2</th>\n",
       "      <td>Kagome comes home to study for an exam but onl...</td>\n",
       "      <td>0.0</td>\n",
       "      <td>0.0</td>\n",
       "      <td>0.0</td>\n",
       "      <td>1.0</td>\n",
       "      <td>0.0</td>\n",
       "      <td>0.0</td>\n",
       "      <td>0.0</td>\n",
       "      <td>1.0</td>\n",
       "    </tr>\n",
       "    <tr>\n",
       "      <th>3</th>\n",
       "      <td>Do you ever wonder what it would be like if Se...</td>\n",
       "      <td>0.0</td>\n",
       "      <td>0.0</td>\n",
       "      <td>0.0</td>\n",
       "      <td>0.0</td>\n",
       "      <td>0.0</td>\n",
       "      <td>1.0</td>\n",
       "      <td>0.0</td>\n",
       "      <td>0.0</td>\n",
       "    </tr>\n",
       "    <tr>\n",
       "      <th>4</th>\n",
       "      <td>Beyond the cypress trees and the rivers windin...</td>\n",
       "      <td>0.0</td>\n",
       "      <td>0.0</td>\n",
       "      <td>0.0</td>\n",
       "      <td>0.0</td>\n",
       "      <td>0.0</td>\n",
       "      <td>0.0</td>\n",
       "      <td>0.0</td>\n",
       "      <td>1.0</td>\n",
       "    </tr>\n",
       "    <tr>\n",
       "      <th>...</th>\n",
       "      <td>...</td>\n",
       "      <td>...</td>\n",
       "      <td>...</td>\n",
       "      <td>...</td>\n",
       "      <td>...</td>\n",
       "      <td>...</td>\n",
       "      <td>...</td>\n",
       "      <td>...</td>\n",
       "      <td>...</td>\n",
       "    </tr>\n",
       "    <tr>\n",
       "      <th>101</th>\n",
       "      <td>A fun and interesting AU, where all the DBZ ch...</td>\n",
       "      <td>0.0</td>\n",
       "      <td>0.0</td>\n",
       "      <td>0.0</td>\n",
       "      <td>1.0</td>\n",
       "      <td>1.0</td>\n",
       "      <td>0.0</td>\n",
       "      <td>0.0</td>\n",
       "      <td>0.0</td>\n",
       "    </tr>\n",
       "    <tr>\n",
       "      <th>102</th>\n",
       "      <td>The Cell games is in ten days. Gohan seems to ...</td>\n",
       "      <td>0.0</td>\n",
       "      <td>0.0</td>\n",
       "      <td>0.0</td>\n",
       "      <td>0.0</td>\n",
       "      <td>0.0</td>\n",
       "      <td>1.0</td>\n",
       "      <td>0.0</td>\n",
       "      <td>0.0</td>\n",
       "    </tr>\n",
       "    <tr>\n",
       "      <th>103</th>\n",
       "      <td>Saiyaman and Videl enjoy a short afternoon wal...</td>\n",
       "      <td>0.0</td>\n",
       "      <td>0.0</td>\n",
       "      <td>0.0</td>\n",
       "      <td>0.0</td>\n",
       "      <td>0.0</td>\n",
       "      <td>0.0</td>\n",
       "      <td>1.0</td>\n",
       "      <td>1.0</td>\n",
       "    </tr>\n",
       "    <tr>\n",
       "      <th>104</th>\n",
       "      <td>A new type of Fighting Tournament has been cre...</td>\n",
       "      <td>0.0</td>\n",
       "      <td>0.0</td>\n",
       "      <td>0.0</td>\n",
       "      <td>0.0</td>\n",
       "      <td>1.0</td>\n",
       "      <td>1.0</td>\n",
       "      <td>0.0</td>\n",
       "      <td>0.0</td>\n",
       "    </tr>\n",
       "    <tr>\n",
       "      <th>105</th>\n",
       "      <td>I am looking at things from a far higher persp...</td>\n",
       "      <td>0.0</td>\n",
       "      <td>0.0</td>\n",
       "      <td>1.0</td>\n",
       "      <td>0.0</td>\n",
       "      <td>0.0</td>\n",
       "      <td>0.0</td>\n",
       "      <td>0.0</td>\n",
       "      <td>0.0</td>\n",
       "    </tr>\n",
       "  </tbody>\n",
       "</table>\n",
       "<p>106 rows × 9 columns</p>\n",
       "</div>"
      ],
      "text/plain": [
       "                                               Summary  Adventure  Angst  \\\n",
       "0    (One-Shot) Rin notices Sesshomaru's softer sid...        0.0    0.0   \n",
       "1    A one-shot about how Inuyasha sees Kagome look...        0.0    0.0   \n",
       "2    Kagome comes home to study for an exam but onl...        0.0    0.0   \n",
       "3    Do you ever wonder what it would be like if Se...        0.0    0.0   \n",
       "4    Beyond the cypress trees and the rivers windin...        0.0    0.0   \n",
       "..                                                 ...        ...    ...   \n",
       "101  A fun and interesting AU, where all the DBZ ch...        0.0    0.0   \n",
       "102  The Cell games is in ten days. Gohan seems to ...        0.0    0.0   \n",
       "103  Saiyaman and Videl enjoy a short afternoon wal...        0.0    0.0   \n",
       "104  A new type of Fighting Tournament has been cre...        0.0    0.0   \n",
       "105  I am looking at things from a far higher persp...        0.0    0.0   \n",
       "\n",
       "     Drama  Family  Friendship  Humor  Hurt_Comfort  Romance  \n",
       "0      0.0     0.0         0.0    1.0           0.0      1.0  \n",
       "1      0.0     0.0         0.0    1.0           0.0      1.0  \n",
       "2      0.0     1.0         0.0    0.0           0.0      1.0  \n",
       "3      0.0     0.0         0.0    1.0           0.0      0.0  \n",
       "4      0.0     0.0         0.0    0.0           0.0      1.0  \n",
       "..     ...     ...         ...    ...           ...      ...  \n",
       "101    0.0     1.0         1.0    0.0           0.0      0.0  \n",
       "102    0.0     0.0         0.0    1.0           0.0      0.0  \n",
       "103    0.0     0.0         0.0    0.0           1.0      1.0  \n",
       "104    0.0     0.0         1.0    1.0           0.0      0.0  \n",
       "105    1.0     0.0         0.0    0.0           0.0      0.0  \n",
       "\n",
       "[106 rows x 9 columns]"
      ]
     },
     "execution_count": 3,
     "metadata": {},
     "output_type": "execute_result"
    }
   ],
   "source": [
    "df1"
   ]
  },
  {
   "cell_type": "code",
   "execution_count": 4,
   "id": "7139a54f",
   "metadata": {},
   "outputs": [
    {
     "name": "stdout",
     "output_type": "stream",
     "text": [
      "(One-Shot) Rin notices Sesshomaru's softer side! Rin's point of view older Rin. (Edited for Mistakes) ::: \n",
      "\n",
      "A one-shot about how Inuyasha sees Kagome looking at him. Very small, and in his point of view. (Edited for Mistakes) ::: \n",
      "\n",
      "Kagome comes home to study for an exam but only Sota is home. Grandpa hurt his back and Kagome's mother is staying the night in the hospital. Sota asks a crazy request for his sister. What will Kagome do with Inuyasha in the house with her? Sucky summary. Just read to see what it is. ::: \n",
      "\n",
      "Do you ever wonder what it would be like if Sesshomaru, Inu yokai Lord of the West, the Killing Perfection, had a pretty little necklace of subjugation? ::: \n",
      "\n",
      "Beyond the cypress trees and the rivers winding through the lowermost valley, Sesshomaru wanders into a secluded, tiny village. Not so long ago, his demonic and hauntingly beautiful appearance would have startled them. Perhaps he's gotten too accustomed to visitation. /Post-Canon. Sessrin. Standalone. ::: \n",
      "\n",
      "Just another Inuyasha Christmas story with a twist. ::: \n",
      "\n",
      "Sesshomaru is left only with longing and pain, wishing for his light when Kagome comes his way, once again. ::: \n",
      "\n",
      "A/U One-shot Complete! Kagome and Inuyasha have been married for eight years and have become a little complacent in their relationship with each other. This story explores the complex nature of balancing careers and family, acknowledging that it isn't always easy to try and meet in the middle. ::: \n",
      "\n",
      "A good book and an impatient woman. A brief story told in simple words. ::: \n",
      "\n",
      "One day Inuyasha gets a abusive step mother who takes him out of school and forces him to do her bidding. As a way to earn money to give to his step mother and cope with his situation he goes on a new journey to secretly become a popular musician and earn enough money to save for himself so that he could one day run away. ::: \n",
      "\n",
      "When Kikyo was alive, she had to repress her desires in order to remain a dutiful priestess. After her death she was able to vent her honesty and feelings that she repressed when she was alive. Showing her love for the half demon she fell for. InuKik, InuYashaxKikyo, Minor InuKag, Minor Kikyo/Kagome, *Oneshot* fluff, feels, time skip ::: \n",
      "\n",
      "Kagame is left out in the cold for way too long and because of it, she suffers from an extreme case of hypothermia. Due to it, Inuyasha has to be in a very uncomfortable situation. ::: \n",
      "\n",
      "\"He steeps her tea in Angel's Trumpet and stays awake all night to listen to her scream.\" Captured by Lord Naraku and raised to be a deadly killer in his wicked war, Kagome was never meant to survive. Not, at least, until the school's poison master takes a special interest in her case. A small, ugly story about a small, ugly man. Mukotsu-centric. SessKag ending. Oneshot. ::: \n",
      "\n",
      "It's a new school year for Kagome and her friends. But then a newcomer attends the same one. Not just that, that person might have an unknown connection to Kagome. ::: \n",
      "\n",
      "A short story including flashbacks about first love and loss. When Sesshomaru was younger, he befriended Kagome, an inu-hanyou with an incurable disease. Now 50 years later, he spends a day reminiscing on their childhood, recalling all the memories the two of them shared. ::: \n",
      "\n",
      "Just a silly little story about what happens when Sesshomaru encounters a piece of technology from Kagome's world. ::: \n",
      "\n",
      "Kagome gave her number to the wrong guy. Fortunately, Sango and the gang, including a pretty jealous Inuyasha, are there to take care of the situation. High-school AU, Inukag, one-shot. ::: \n",
      "\n",
      "Fluffy short about a cold evening during Sesshomaru and Rins travels together. ::: \n",
      "\n",
      "\"Whatever our souls are made of...\" The quest is over. Inuyasha is dead. Happily-ever-afters have been handed out at random. Kikyo and Kagome are trapped alone in a time they don't belong in with one soul between them. A short story of love, loss, and things left behind. KagKik. Yuri. ::: \n",
      "\n",
      "From Chap 8 of my \"Ever Us\". Please find a bit of elaboration on the \"colossal marital fight of the century\" where Inuyasha told Sesshomaru that he would hug their children or else. Tessaiga clashing with Tenseiga with such intensity that the earth shook. This story from Professor Kenichi Takahashi's pen. AU/yaoi/Inucest Action genre ::: \n",
      "\n",
      "Sesshomaru contemplates his past, his motivations and his future. ::: \n",
      "\n",
      "Amelia has no other way to convey the feelings that swirl and twirl in her chest, delicately. *Nyo!America.* *Inspired by a prompt for AmeLiet Week 2019, Day Seven.* ::: \n",
      "\n",
      "\"I'm Gilbert. Would you like to travel the universe with me?\" - In which they do exactly that. ::: \n",
      "\n",
      "Not all love is given the chance to grow; some of it might be tended to for a little while before it was left abandoned, and some wilted even when they were taken good care of. Unfortunately for them, theirs was the latter, and even if it's a sad fact, what they had among the breaks is a hopeless love. They learn to accept it after some time. ::: \n",
      "\n",
      "Germany and Prussia have never felt able to express their frustrations with one another. Finally, they're able to have the heart-to-heart their family desperately needed for either of them to move on and heal. ::: \n",
      "\n",
      "Kiku Honda didn't need to look out towards the sea to know who had arrived onto his shores. An arrogant voice calls out to him - \"Shouldn't you be offering me tea right about now?\" ::: \n",
      "\n",
      "Alfred asks something during a sleepover with Kiku. He doesn't take it well. ::: \n",
      "\n",
      "With states seriously considering the Green New Deal, one state makes a stand. (This is based off something that actually happened. I tried to make it as accurate as possible. Warning for politics?) ::: \n",
      "\n",
      "A young Aurel Popescu attempts to take on the most difficult task of his time- math homework. When his brother, Vladimir Popescu, prefers not to do it for him, Aurel decides to go to his favorite neighbor, Katyusha. ::: \n",
      "\n",
      "Arthur and Alfred wait for Francis and Matthew to join them for lunch, and while waiting, Alfred decides it's time to share some drastic ideas he's been toying with lately. Arthur does his best to convince the former revolutionary from starting what he is certain would be the approaching acts to a much darker world than the one innocent minds know. ::: \n",
      "\n",
      "Little Germany is ill and tries to hide it from his big brother. ::: \n",
      "\n",
      "When I stared in the mirror, I didn't know who I was looking at. There was a stranger looking at me. Her face too round, her body too feminine. She was not me. She was someone I had been posing as and I couldn't stand the sight of her. ::: \n",
      "\n",
      "America (and Canada) finds the Yanny Laurel clip. What will happen? ::: \n",
      "\n",
      "A one shot of a Mermaid AU. Read it to find out more. Please R&R and hope you like it ::: \n",
      "\n",
      "Orihime wonders what Ulquiorra's Past is like, She finds out when she gets transported to the past. Ulquihime One-Shot ::: \n",
      "\n",
      "Oneshot. Pre TYBW arc, canon divergent. ShuuHina-centric, mentioned badship AiHina, mentioned platonic ShuuKiraRanHina. Rated T for mentions of sexual abuse & NSFW. /She is unused to feeling anything that isn't pain./ ::: \n",
      "\n",
      "\"The Sealed King of the Quincy regained his heartbeat again after 900 years, his intellect after 90 years, his power after 9 years, and the world after 9 days.\" The Last 9 days are upon Soul Society, and Yhwach has won. With his will broken and his sword shattered, Ichigo must stand again to face the Quincy emperor. A retelling of the end of the Thousand Year Blood War. ::: \n",
      "\n",
      "On a particularly cold night, Orihime is feeling homesick and refuses to eat. A certain Espada is not happy about this...(Oneshot) ::: \n",
      "\n",
      "A short drabble. Ichihime. ::: \n",
      "\n",
      "Yammy confesses to Ulquiorra ::: \n",
      "\n",
      "An IH drabble Ichihime and a blow pop. ::: \n",
      "\n",
      "Ichigo's thoughts while under Orihihime's healing powers. IchiHime fluff/angst. Little bit drabbley... This was my first time writing them! ::: \n",
      "\n",
      "Rukia's good at kido. Ichigo's good at learning. ::: \n",
      "\n",
      "How do you have to order your alleles, he wonders, to get that shade of heart-stopping blue— [Ichiruki] [686 compliant] ::: \n",
      "\n",
      "Orihime runs from her responsibility as the miko and enters the forbidden forest. UlquiHime, One-shot ::: \n",
      "\n",
      "The easiest heart to break is your own. ::: \n",
      "\n",
      "Neliel exposes the Sexta's softer, much more vulnerable side. GrimmNel short. ::: \n",
      "\n",
      "Hisana lives in the rukongai, it's a young girl who fighting to survive in this hard and ruthless world. This is what will lead her to abandon her little sister, Rukia. A sad OS wich tells the past of that who became the wife of Byakuya ::: \n",
      "\n",
      "AU. \"Really, Shiro? Really? In my apartment?\" \"Your window had the best angle. Also, you knew what you were getting into.\" \"Only after you said 'Oh, by the way, I'm an assassin, so if you ever need anyone taken out, you know a guy!\" ::: \n",
      "\n",
      "The shihakushou is the traditional garb of the shinigami. That didn't mean every shinigami wore theirs the same way, least of all Ichigo Kurosaki. ::: \n",
      "\n",
      "'I need a weapon, I need to do something.' She looked down and her eyes widened at what was below her on the ground, Zangetsu, knocked away earlier from Ichigo's hands rested in front of her. 'I need to do something...something that Ichigo would do.' ::: \n",
      "\n",
      "Ichigo doesn't really care about flowers, but he needs the job and it's hard because his boss is way too crazy over them but he really needs the money. He guesses. Florist AU ::: \n",
      "\n",
      "Szayelaporro muses about his older brother, Yylfordt Granz, and the relationship that they shared. More than that, the past and how they had struggled so much before. Szayel/Yylfordt... Granzcest, if you will. Mentions of cancer & character death ::: \n",
      "\n",
      "Stories about Aizen/Szayel. Chapter 1 is about Aizen pulling Szayel away from his research to rest. Chapter 2 is a \"typical\" fall hayride. ::: \n",
      "\n",
      "After defeating the Water Dragon God, Team Natsu is headed to Tekka to continue their 100 year quest when they run into a traveling storytelling group who reveal to them the legends of the forest around them. What will they do when stories become reality and Lucy stumbles upon a forgotten creature that lay dormant for eons? *WARNING: SPOILERS for 100 year quest up to chapter 25.* ::: \n",
      "\n",
      "Theories that I have about some events and characters in Fairy Tail. Let me know if they seem legit or possible. Keep in mind that they're only theories. ::: \n",
      "\n",
      "As Lucy Heartfilia struggles to go to sleep, she begans to reflect upon her life since joining Fairy Tail specifically her relationship with a certain pink-haired Fire Wizard. ::: \n",
      "\n",
      "This is not a story. Just a theory, something to think about and an apology. ::: \n",
      "\n",
      "A collection of tumblr requests and short Fairy Tail drabbles. / Each chapter will be marked by pairing [' is platonic, 'x' is romantic] and will have trigger warnings as necessary. / Find me on tumblr (and submit requests) at @splendidlyimperfect ::: \n",
      "\n",
      "When a taxi refuses to take Sting to the airport because they won't accept his service dog, a charming stranger named Rogue offers to drive him instead. The act of kindness gets Sting home to his brother Natsu and the rest of his family in time for Christmas, but Sting can't help hoping that he'll run into Rogue again. ::: \n",
      "\n",
      "Whenever Lucy and Natsu spar with each other Cana find them in scandalous compromising position. What is actually going on between the two of them who are always fighting and bickering together.. Read and find out. ::: \n",
      "\n",
      "i need help finding a story about lucy and zen pradesh i know im not meant to post this stuff but im desperate ::: \n",
      "\n",
      "Just a bunch of kawaii little oneshots I make when I'm bored :) ::: \n",
      "\n",
      "While they teased Lucy about Natsu, the white mage chose her next host. (Gruvia/NaLu) (Fluff/Angst) (FT 100 years quest) (chapter 43) (Plot Twist) ::: \n",
      "\n",
      "When Gajeel fails to protect Levy from non other than himself, will Levy be able to convince him to stay? Or is this where our favorite couple says goodbye? Gajeel/Levy ::: \n",
      "\n",
      "Natsu protected Lucy from a job, so Lucy wanted to pay him back after he got himself hurt. While she's bandaging him up, she finds herself feeling guilty about what has happened. Can Natsu make her feel better? Or will her emotions get the better of her? ::: \n",
      "\n",
      "An other Announcement ::: \n",
      "\n",
      "She was the Queen of The Fairies, glowing bright for all to see. He was the former criminal and current fugitive, lurking in the shadows always watching out for her, protecting her. But what happens, once the glowing brightness and the shadows clash together? JERZA. ::: \n",
      "\n",
      "Zeref Dragneel is a cold and greedy business man who pushes away his loving brother Natsu and mistreats his hard working employee Gray but one Christmas Eve night he meets three spirits who are determined to change his views on life forever. ::: \n",
      "\n",
      "Erza weighs her strengths and failures. Jellal helps. - Part of the Remember Me series. ::: \n",
      "\n",
      "Based on something Mira said in an old manga extra. One-shot. ::: \n",
      "\n",
      "Sting and Ryos spend their first Christmas with their foster son, Noah, and end up with some big news for their family. / **part of the 'only hope for me is you' universe, see profile for links** ::: \n",
      "\n",
      "Yuugi and his two friends go to a long abandoned cabin to fulfill a dying grandfather's final wish… But why are they there? What is so important about this strange, eerie house? …and what will be the cost of finding out? [AU Puzzleshipping, Puffshipping] ::: \n",
      "\n",
      "Turns out Liam was a fan of Seto ::: \n",
      "\n",
      "While at Anzu's house, a cat pounces on Yami, which brings back old memories of being in Egypt. ::: \n",
      "\n",
      "There's a new nightclub in town and everyone's going to be there. Even Seto Kaiba. Light Seto x Jounouchi. Story inspired by a picture. ::: \n",
      "\n",
      "\"Let's just say, I'm repaying a debt.\" ::: \n",
      "\n",
      "In which Seto Kaiba is offered the Sennen Rod, makes some realizations, and comes to conclusions he isn't entirely fond of. He is certain Yugi Mutou has it out for his sanity. He just can't prove it. ::: \n",
      "\n",
      "As the evening pushes into the night, Seto finds himself alone with a stranger. Inspired by Vienna Teng's 'Recessional'. ::: \n",
      "\n",
      "Mokuba and Seto have a bike race... with a twist. ::: \n",
      "\n",
      "A short story where Ryou takes Yami Bakura (Bakura), Marik and Yami Marik (Kek) on a flying fox! Yay! Rated T for swearing and nothing else Please enjoy! ::: \n",
      "\n",
      "Yami's friends introduce him to movie nights, and he introduces them to his thoughts on what they choose. One-shot. ::: \n",
      "\n",
      "Blind!YugixYami One-Shot Yugi attending Yami's art class. They get to know each other through their artand while they are talking Yami finds out more about Yugi. ::: \n",
      "\n",
      "An anonymous figure referring to themselves as \"Atem\" threatens to expose the secrets of the past that Seto thought he had buried long ago. Meanwhile, a security consultant named Kisara uncovers a despicable scheme at a local orphanage with all of the evidence pointing to Seto as the mastermind. ::: \n",
      "\n",
      "Will Joey dying bring him and Seto closer than ever before? This is a puppyshipping, and character death. ::: \n",
      "\n",
      "\"You're in charge now, Mokuba.\" Mokuba has watched Seto hurt himself for too long, and finally decides that enough is enough. (spoilers for Dark Side of Dimensions) ::: \n",
      "\n",
      "\"Instead of taking it easy after all that fighting, he was back at it again wearing his body out. Punching imaginary aliens. Making that dumb face.\" Chi-Chi reflects on growing older while her husband continues to abuse his body after the tournament between Universe 6 and Universe 7. How can words explain it when food can't? One-shot dedicated to GoChi. ::: \n",
      "\n",
      "Of all the things Yamcha loves about his boyfriend, he loves Tien's arms the most. (Written for Tiencha Day 2016) ::: \n",
      "\n",
      "During a martial arts tournament Videl, her best friend Erasa, and her shy new friend Gohan get caught in the middle of multiple world-threatening foes. Gohan will have to overcome several demons, both physical and psychological, to be the hero that his father was once before him and save the world. Very alternate Majin Buu storyline. More Dabura, no fusion/Ultimate Gohan. ::: \n",
      "\n",
      "There is a battle that many wondered about during the Android Saga. That battle was Vegeta against Piccolo, the Last Saiyan Prince against the Namekian Demon Spawn of King Piccolo though what-if, on a night before the Cell Games, the Saiyan Elite stared down the Namekian Fusion, Vegeta stared down Piccolo? Disclaimer: DB/Z/ and GT belong to Akira Toriyama, Fuji TV, Toei, etc. ::: \n",
      "\n",
      "Raditz and Mary get ready for their wedding after Goku's death. Continuation of \"What Have You Done?\", \"Mating Moon\", and \"New Moon\". Rated for language and suggestive content. Raditzxoc ::: \n",
      "\n",
      "After being taken by Frieza, Goten has no memory of his past. Upon returning to Earth to destroy it, he comes across an old friend. Can Trunks save Goten or will the darkness claim him? NOT YAOI. Coauthored by pikatrebond. ::: \n",
      "\n",
      "18 and Krillin take Marron to meet 17 for the first time, but something's wrong? Can 18 and the others save him? Inspired by the Super 17 Saga (loosely), but I also briefly brought in my own character Disclaimer: This is a Fanfiction. Dragon Ball, Dragon Ball Z and Dragon Ball GT are all owned by Funimation, Toei Animation, Fuji T.V. and Akira Toriyama ::: \n",
      "\n",
      "For Vegeta, old habits die hard. ::: \n",
      "\n",
      "That moment Vegeta finally realized why her surname is Briefs. (Crack- no pun intended, lmao) ::: \n",
      "\n",
      "Only five prompts this time. I wrote for all but the fourth prompt. Word limit 400 and drabbles are based off of images. The theme was war; all but one image had secondary fantasy theme going on for them. Nothing explicit here, all SFW stuff. ::: \n",
      "\n",
      "Bulma is having doubts about Vegeta's feelings for her. Does he really care or is her love one-sided? Chi Chi has an idea to help Bulma discover the truth of the matter. ::: \n",
      "\n",
      "Trunks goes back to the past with Goku and Vegeta, but he gets surprised when a certain someone is waiting there for him. But it won't be like last time, sharing a can of meat with a cat wanting cuddles. It won't be the big reunion that he had hoped for, but can he have some hope to at least smile? ::: \n",
      "\n",
      "King Piccolo one-shot. Set when Piccolo Daimao is still the Nameless Namekian, at the moment when Katas decided to send him away. ::: \n",
      "\n",
      "Some REALLY dumb people decide to attempt to assassinate the head of their chief corporate rival, Capsule Corporation. It...doesn't go well. For them. Warning: somewhat graphic imagery. Take a shot at it though! Let me know if the rating is too low, please. ::: \n",
      "\n",
      "Sequel to Bardock Son of Gohan. A year has passed since Bardock made it back to his own timeline. He and Pan are now going to school, trying to live a peaceful life. Unfortunately, what happens in one known timeline must also happen in the next known one. How will the two handle it when they have to face Majin Buu again? This time a few curve balls are thrown in as well. ::: \n",
      "\n",
      "A fun and interesting AU, where all the DBZ characters go to school. It is my very first fanfic! I have focused mainly on GxCC, but will try to add BxV, Kx18 and TxL. Please enjoy reading it as much as I enjoyed writing it. (Rated T just in case.) DISCONTINUED ::: \n",
      "\n",
      "The Cell games is in ten days. Gohan seems to think Gero was too smart not to have another lab so he goes off to find it, but things don't go according to plan. Gohan gets captured by a crazy scientist who wants to experiment on him. Will Gohan escape? How will this effect him? \"I do not own dragon ball z or any of the characters. I think thats pretty obvious.\" ::: \n",
      "\n",
      "Saiyaman and Videl enjoy a short afternoon walk together, with plenty of embarrassment occurring between them. ::: \n",
      "\n",
      "A new type of Fighting Tournament has been created. ::: \n",
      "\n",
      "I am looking at things from a far higher perspective than you. I observe this world, this universe, the truth of all things. And I have realized mortals must be destroyed. Out of all which the gods have made, mortals are their sole failure. To create a utopia, I must remove mortals in the place of Gods who refuse to admit their mistake! Goku Black One-Shots! ::: \n",
      "\n"
     ]
    }
   ],
   "source": [
    "for x in df1['Summary']:\n",
    "    print(x, '::: \\n')"
   ]
  },
  {
   "cell_type": "code",
   "execution_count": 5,
   "id": "119d77d3",
   "metadata": {},
   "outputs": [
    {
     "data": {
      "text/plain": [
       "Index(['Summary', 'Adventure', 'Angst', 'Drama', 'Family', 'Friendship',\n",
       "       'Humor', 'Hurt_Comfort', 'Romance'],\n",
       "      dtype='object')"
      ]
     },
     "execution_count": 5,
     "metadata": {},
     "output_type": "execute_result"
    }
   ],
   "source": [
    "df1.columns"
   ]
  },
  {
   "cell_type": "code",
   "execution_count": 19,
   "id": "c5fd16a3",
   "metadata": {},
   "outputs": [],
   "source": [
    "def ffdict_to_df_test(dfdict_filename):\n",
    "    df = pd.DataFrame()\n",
    "    df = df.assign(Summary=0, Adventure=0, Angst=0, Crime=0, Drama=0, Family=0,\\\n",
    "                   Fantasy=0, Friendship=0, General=0, Horror=0, Humor=0,\\\n",
    "                   Hurt_Comfort=0, Mystery=0, Parody=0, Poetry=0, Romance=0,\\\n",
    "                   Sci_Fi=0, Spiritual=0, Supernatural=0, Suspense=0, Tragedy=0, Western=0) #works for ffnet.\n",
    "    f = open(dfdict_filename, \"r\")\n",
    "    dfdict = f.read()\n",
    "    dfdict = ast.literal_eval(dfdict)\n",
    "    f.close \n",
    "    for x in dfdict:\n",
    "        r2 = {}\n",
    "        r2['Summary'] = x\n",
    "        for values in dfdict[x]:\n",
    "            if values != '':\n",
    "                r2[values] = 1\n",
    "        df = df.append(r2, ignore_index=True)\n",
    "        \n",
    "    df = df.fillna(0)\n",
    "    return df"
   ]
  },
  {
   "cell_type": "code",
   "execution_count": 51,
   "id": "2f9f68c6",
   "metadata": {},
   "outputs": [],
   "source": [
    "df2 = ffdict_to_df_test(\"manualtest1.txt\")"
   ]
  },
  {
   "cell_type": "code",
   "execution_count": 52,
   "id": "55ee6ad8",
   "metadata": {},
   "outputs": [],
   "source": [
    "droplist = ['Crime',\n",
    " 'Fantasy',\n",
    " 'General',\n",
    " 'Horror',\n",
    " 'Mystery',\n",
    " 'Parody',\n",
    " 'Poetry',\n",
    " 'Sci_Fi',\n",
    " 'Spiritual',\n",
    " 'Supernatural',\n",
    " 'Suspense',\n",
    " 'Tragedy',\n",
    " 'Western']\n",
    "df2 = df2.drop(labels=droplist, axis=1)"
   ]
  },
  {
   "cell_type": "code",
   "execution_count": 53,
   "id": "ac05a1f0",
   "metadata": {},
   "outputs": [
    {
     "data": {
      "text/html": [
       "<div>\n",
       "<style scoped>\n",
       "    .dataframe tbody tr th:only-of-type {\n",
       "        vertical-align: middle;\n",
       "    }\n",
       "\n",
       "    .dataframe tbody tr th {\n",
       "        vertical-align: top;\n",
       "    }\n",
       "\n",
       "    .dataframe thead th {\n",
       "        text-align: right;\n",
       "    }\n",
       "</style>\n",
       "<table border=\"1\" class=\"dataframe\">\n",
       "  <thead>\n",
       "    <tr style=\"text-align: right;\">\n",
       "      <th></th>\n",
       "      <th>Summary</th>\n",
       "      <th>Adventure</th>\n",
       "      <th>Angst</th>\n",
       "      <th>Drama</th>\n",
       "      <th>Family</th>\n",
       "      <th>Friendship</th>\n",
       "      <th>Humor</th>\n",
       "      <th>Hurt_Comfort</th>\n",
       "      <th>Romance</th>\n",
       "    </tr>\n",
       "  </thead>\n",
       "  <tbody>\n",
       "    <tr>\n",
       "      <th>0</th>\n",
       "      <td>(One-Shot) Rin notices Sesshomaru's softer sid...</td>\n",
       "      <td>0.0</td>\n",
       "      <td>0.0</td>\n",
       "      <td>0.0</td>\n",
       "      <td>0.0</td>\n",
       "      <td>1.0</td>\n",
       "      <td>0.0</td>\n",
       "      <td>0.0</td>\n",
       "      <td>1.0</td>\n",
       "    </tr>\n",
       "    <tr>\n",
       "      <th>1</th>\n",
       "      <td>A one-shot about how Inuyasha sees Kagome look...</td>\n",
       "      <td>0.0</td>\n",
       "      <td>1.0</td>\n",
       "      <td>0.0</td>\n",
       "      <td>0.0</td>\n",
       "      <td>0.0</td>\n",
       "      <td>0.0</td>\n",
       "      <td>0.0</td>\n",
       "      <td>1.0</td>\n",
       "    </tr>\n",
       "    <tr>\n",
       "      <th>2</th>\n",
       "      <td>Kagome comes home to study for an exam but onl...</td>\n",
       "      <td>0.0</td>\n",
       "      <td>0.0</td>\n",
       "      <td>1.0</td>\n",
       "      <td>1.0</td>\n",
       "      <td>0.0</td>\n",
       "      <td>0.0</td>\n",
       "      <td>0.0</td>\n",
       "      <td>0.0</td>\n",
       "    </tr>\n",
       "    <tr>\n",
       "      <th>3</th>\n",
       "      <td>Do you ever wonder what it would be like if Se...</td>\n",
       "      <td>0.0</td>\n",
       "      <td>0.0</td>\n",
       "      <td>0.0</td>\n",
       "      <td>0.0</td>\n",
       "      <td>0.0</td>\n",
       "      <td>1.0</td>\n",
       "      <td>0.0</td>\n",
       "      <td>1.0</td>\n",
       "    </tr>\n",
       "    <tr>\n",
       "      <th>4</th>\n",
       "      <td>Beyond the cypress trees and the rivers windin...</td>\n",
       "      <td>0.0</td>\n",
       "      <td>1.0</td>\n",
       "      <td>0.0</td>\n",
       "      <td>0.0</td>\n",
       "      <td>0.0</td>\n",
       "      <td>0.0</td>\n",
       "      <td>0.0</td>\n",
       "      <td>1.0</td>\n",
       "    </tr>\n",
       "    <tr>\n",
       "      <th>...</th>\n",
       "      <td>...</td>\n",
       "      <td>...</td>\n",
       "      <td>...</td>\n",
       "      <td>...</td>\n",
       "      <td>...</td>\n",
       "      <td>...</td>\n",
       "      <td>...</td>\n",
       "      <td>...</td>\n",
       "      <td>...</td>\n",
       "    </tr>\n",
       "    <tr>\n",
       "      <th>101</th>\n",
       "      <td>A fun and interesting AU, where all the DBZ ch...</td>\n",
       "      <td>0.0</td>\n",
       "      <td>0.0</td>\n",
       "      <td>1.0</td>\n",
       "      <td>0.0</td>\n",
       "      <td>0.0</td>\n",
       "      <td>0.0</td>\n",
       "      <td>0.0</td>\n",
       "      <td>1.0</td>\n",
       "    </tr>\n",
       "    <tr>\n",
       "      <th>102</th>\n",
       "      <td>The Cell games is in ten days. Gohan seems to ...</td>\n",
       "      <td>0.0</td>\n",
       "      <td>1.0</td>\n",
       "      <td>1.0</td>\n",
       "      <td>0.0</td>\n",
       "      <td>0.0</td>\n",
       "      <td>0.0</td>\n",
       "      <td>0.0</td>\n",
       "      <td>0.0</td>\n",
       "    </tr>\n",
       "    <tr>\n",
       "      <th>103</th>\n",
       "      <td>Saiyaman and Videl enjoy a short afternoon wal...</td>\n",
       "      <td>0.0</td>\n",
       "      <td>0.0</td>\n",
       "      <td>1.0</td>\n",
       "      <td>0.0</td>\n",
       "      <td>1.0</td>\n",
       "      <td>0.0</td>\n",
       "      <td>0.0</td>\n",
       "      <td>0.0</td>\n",
       "    </tr>\n",
       "    <tr>\n",
       "      <th>104</th>\n",
       "      <td>A new type of Fighting Tournament has been cre...</td>\n",
       "      <td>0.0</td>\n",
       "      <td>0.0</td>\n",
       "      <td>1.0</td>\n",
       "      <td>0.0</td>\n",
       "      <td>0.0</td>\n",
       "      <td>1.0</td>\n",
       "      <td>0.0</td>\n",
       "      <td>0.0</td>\n",
       "    </tr>\n",
       "    <tr>\n",
       "      <th>105</th>\n",
       "      <td>I am looking at things from a far higher persp...</td>\n",
       "      <td>0.0</td>\n",
       "      <td>0.0</td>\n",
       "      <td>1.0</td>\n",
       "      <td>0.0</td>\n",
       "      <td>0.0</td>\n",
       "      <td>1.0</td>\n",
       "      <td>0.0</td>\n",
       "      <td>0.0</td>\n",
       "    </tr>\n",
       "  </tbody>\n",
       "</table>\n",
       "<p>106 rows × 9 columns</p>\n",
       "</div>"
      ],
      "text/plain": [
       "                                               Summary  Adventure  Angst  \\\n",
       "0    (One-Shot) Rin notices Sesshomaru's softer sid...        0.0    0.0   \n",
       "1    A one-shot about how Inuyasha sees Kagome look...        0.0    1.0   \n",
       "2    Kagome comes home to study for an exam but onl...        0.0    0.0   \n",
       "3    Do you ever wonder what it would be like if Se...        0.0    0.0   \n",
       "4    Beyond the cypress trees and the rivers windin...        0.0    1.0   \n",
       "..                                                 ...        ...    ...   \n",
       "101  A fun and interesting AU, where all the DBZ ch...        0.0    0.0   \n",
       "102  The Cell games is in ten days. Gohan seems to ...        0.0    1.0   \n",
       "103  Saiyaman and Videl enjoy a short afternoon wal...        0.0    0.0   \n",
       "104  A new type of Fighting Tournament has been cre...        0.0    0.0   \n",
       "105  I am looking at things from a far higher persp...        0.0    0.0   \n",
       "\n",
       "     Drama  Family  Friendship  Humor  Hurt_Comfort  Romance  \n",
       "0      0.0     0.0         1.0    0.0           0.0      1.0  \n",
       "1      0.0     0.0         0.0    0.0           0.0      1.0  \n",
       "2      1.0     1.0         0.0    0.0           0.0      0.0  \n",
       "3      0.0     0.0         0.0    1.0           0.0      1.0  \n",
       "4      0.0     0.0         0.0    0.0           0.0      1.0  \n",
       "..     ...     ...         ...    ...           ...      ...  \n",
       "101    1.0     0.0         0.0    0.0           0.0      1.0  \n",
       "102    1.0     0.0         0.0    0.0           0.0      0.0  \n",
       "103    1.0     0.0         1.0    0.0           0.0      0.0  \n",
       "104    1.0     0.0         0.0    1.0           0.0      0.0  \n",
       "105    1.0     0.0         0.0    1.0           0.0      0.0  \n",
       "\n",
       "[106 rows x 9 columns]"
      ]
     },
     "execution_count": 53,
     "metadata": {},
     "output_type": "execute_result"
    }
   ],
   "source": [
    "df2"
   ]
  },
  {
   "cell_type": "code",
   "execution_count": 54,
   "id": "e96c120c",
   "metadata": {},
   "outputs": [],
   "source": [
    "df1.to_csv('manualtest_groundtruth_4.csv')"
   ]
  },
  {
   "cell_type": "code",
   "execution_count": 55,
   "id": "d7720316",
   "metadata": {},
   "outputs": [],
   "source": [
    "df2 = df2.rename({'Summary': 'summary'}, axis=1)\n",
    "df2.to_csv('PREDS_manualtest_1_3.csv', index=False)"
   ]
  },
  {
   "cell_type": "code",
   "execution_count": 75,
   "id": "05e14185",
   "metadata": {},
   "outputs": [],
   "source": [
    "def acc_barh_table(truth_csv, preds_csv, namedict):\n",
    "    df1 = pd.read_csv(truth_csv)\n",
    "    try:\n",
    "        df1 = df1.rename({'Summary': 'summary'}, axis=1)\n",
    "        df1 = df1.drop(['Unnamed: 0'], axis=1)\n",
    "    except:\n",
    "        print('summary col/unnamed check')\n",
    "    \n",
    "    df3 = pd.read_csv(preds_csv)\n",
    "    \n",
    "    print(df1.columns)\n",
    "    print(df3.columns)\n",
    "    \n",
    "    try:\n",
    "        df10 = df1.drop(['summary'], axis=1)\n",
    "        df30 = df3.drop(['summary'], axis=1)\n",
    "    except:\n",
    "        pass\n",
    "    \n",
    "    compdf = df30.compare(df10)\n",
    "    \n",
    "    zeros = len(df1) - len(compdf)\n",
    "    ones = 0\n",
    "    twos = 0\n",
    "    threes = 0\n",
    "    fours = 0\n",
    "    for x in list(compdf.sum(axis=1)):\n",
    "        if x == 1:\n",
    "            ones += 1\n",
    "        elif x == 2:\n",
    "            twos += 1\n",
    "        elif x == 3:\n",
    "            threes += 1\n",
    "        elif x == 4:\n",
    "            fours += 1\n",
    "        else:\n",
    "            print(x)\n",
    "            \n",
    "    k1 = pd.DataFrame([zeros, ones, twos, threes, fours])\n",
    "    k2 = k1.T.rename({0: '2t2r', 1: '1t1r', 2: '2t1r', 3:'1t0r', 4:'2t0r'}, axis=1)\n",
    "    k3 = k2.rename(namedict, axis=0)\n",
    "    k4 = k3.applymap(lambda x: x / len(df1) * 100)\n",
    "    \n",
    "    return k4\n",
    "\n",
    "def acc_barh(tablelist):\n",
    "    k5 = pd.concat(tablelist)\n",
    "    print(k5)\n",
    "    k5.plot.barh(stacked=True, color={'2t2r':'blue', '1t1r':'green', '2t1r':'yellow', '1t0r':'red', '2t0r':'purple'})"
   ]
  },
  {
   "cell_type": "code",
   "execution_count": 65,
   "id": "f554596e",
   "metadata": {
    "scrolled": true
   },
   "outputs": [
    {
     "name": "stdout",
     "output_type": "stream",
     "text": [
      "summary col/unnamed check\n",
      "Index(['summary', 'Adventure', 'Angst', 'Drama', 'Family', 'Friendship',\n",
      "       'Humor', 'Hurt_Comfort', 'Romance'],\n",
      "      dtype='object')\n",
      "Index(['summary', 'Adventure', 'Angst', 'Drama', 'Family', 'Friendship',\n",
      "       'Humor', 'Hurt_Comfort', 'Romance'],\n",
      "      dtype='object')\n"
     ]
    }
   ],
   "source": [
    "man1 = acc_barh_table('manualtest_groundtruth.csv', 'PREDS_manualtest_1_3.csv', {0:'man1'})"
   ]
  },
  {
   "cell_type": "code",
   "execution_count": 69,
   "id": "f5fcda69",
   "metadata": {},
   "outputs": [],
   "source": [
    "df5 = pd.read_csv('PREDS_zdr5_mantest_1.csv')\n",
    "df5['Adventure'] = 0\n",
    "df5 = df5.reindex(['summary', 'Adventure', 'Angst', 'Drama', 'Family', 'Friendship', 'Humor', 'Hurt_Comfort', 'Romance'], axis=1)\n",
    "df5.to_csv('PREDS_zdr5_mantest_2.csv', index=False)"
   ]
  },
  {
   "cell_type": "code",
   "execution_count": 71,
   "id": "b931d1c0",
   "metadata": {
    "scrolled": true
   },
   "outputs": [
    {
     "name": "stdout",
     "output_type": "stream",
     "text": [
      "summary col/unnamed check\n",
      "Index(['summary', 'Adventure', 'Angst', 'Drama', 'Family', 'Friendship',\n",
      "       'Humor', 'Hurt_Comfort', 'Romance'],\n",
      "      dtype='object')\n",
      "Index(['summary', 'Adventure', 'Angst', 'Drama', 'Family', 'Friendship',\n",
      "       'Humor', 'Hurt_Comfort', 'Romance'],\n",
      "      dtype='object')\n"
     ]
    }
   ],
   "source": [
    "zdr5_man = acc_barh_table('manualtest_groundtruth.csv', 'PREDS_zdr5_mantest_2.csv', {0:'zdr5-o4'})"
   ]
  },
  {
   "cell_type": "code",
   "execution_count": 73,
   "id": "0124afad",
   "metadata": {},
   "outputs": [
    {
     "name": "stdout",
     "output_type": "stream",
     "text": [
      "Index(['summary', 'Adventure', 'Angst', 'Drama', 'Family', 'Friendship',\n",
      "       'Humor', 'Hurt_Comfort', 'Romance'],\n",
      "      dtype='object')\n",
      "Index(['summary', 'Adventure', 'Angst', 'Drama', 'Family', 'Friendship',\n",
      "       'Humor', 'Hurt_Comfort', 'Romance'],\n",
      "      dtype='object')\n"
     ]
    }
   ],
   "source": [
    "zdr5_o4_ffd7 = acc_barh_table('ffdump7.csv', 'PREDS_zdr5_ffdump7_14.csv', {0:'zdr5-o4-ffd7'})"
   ]
  },
  {
   "cell_type": "code",
   "execution_count": 76,
   "id": "16aa5459",
   "metadata": {},
   "outputs": [
    {
     "name": "stdout",
     "output_type": "stream",
     "text": [
      "                   2t2r       1t1r       2t1r       1t0r       2t0r\n",
      "man1           2.830189  16.037736  32.075472  22.641509  26.415094\n",
      "zdr5-o4        8.490566  27.358491  38.679245  11.320755  14.150943\n",
      "zdr5-o4-ffd7  12.612613  19.369369  42.792793  12.612613  12.612613\n"
     ]
    },
    {
     "data": {
      "image/png": "[encoded data removed]",
      "text/plain": [
       "<Figure size 432x288 with 1 Axes>"
      ]
     },
     "metadata": {
      "needs_background": "light"
     },
     "output_type": "display_data"
    }
   ],
   "source": [
    "acc_barh([man1, zdr5_man, zdr5_o4_ffd7]) "
   ]
  },
  {
   "cell_type": "code",
   "execution_count": 77,
   "id": "3bccdddc",
   "metadata": {},
   "outputs": [
    {
     "data": {
      "text/plain": [
       "43.693694"
      ]
     },
     "execution_count": 77,
     "metadata": {},
     "output_type": "execute_result"
    }
   ],
   "source": [
    "12.612613 + 0.5 * 19.369369 + 0.5 * 42.792793"
   ]
  },
  {
   "cell_type": "code",
   "execution_count": 78,
   "id": "c56f1acf",
   "metadata": {},
   "outputs": [
    {
     "data": {
      "text/plain": [
       "41.509434"
      ]
     },
     "execution_count": 78,
     "metadata": {},
     "output_type": "execute_result"
    }
   ],
   "source": [
    "8.490566 + 0.5 * 27.358491 + 0.5 * 38.679245"
   ]
  },
  {
   "cell_type": "code",
   "execution_count": 79,
   "id": "98be2bb4",
   "metadata": {},
   "outputs": [
    {
     "data": {
      "text/plain": [
       "26.886792999999997"
      ]
     },
     "execution_count": 79,
     "metadata": {},
     "output_type": "execute_result"
    }
   ],
   "source": [
    "2.830189 + 0.5 * 16.037736 + 0.5 * 32.075472"
   ]
  },
  {
   "cell_type": "code",
   "execution_count": 81,
   "id": "4a364544",
   "metadata": {
    "scrolled": true
   },
   "outputs": [
    {
     "name": "stdout",
     "output_type": "stream",
     "text": [
      "Index(['summary', 'Adventure', 'Angst', 'Drama', 'Family', 'Friendship',\n",
      "       'Humor', 'Hurt_Comfort', 'Romance'],\n",
      "      dtype='object')\n",
      "Index(['summary', 'Adventure', 'Angst', 'Drama', 'Family', 'Friendship',\n",
      "       'Humor', 'Hurt_Comfort', 'Romance'],\n",
      "      dtype='object')\n"
     ]
    }
   ],
   "source": [
    "fb_ffd7 = acc_barh_table('ffdump7.csv', '15_jun_2_fb_preds.csv', {0:'fb-ffd7'})"
   ]
  },
  {
   "cell_type": "code",
   "execution_count": 85,
   "id": "5d87a885",
   "metadata": {
    "scrolled": true
   },
   "outputs": [
    {
     "name": "stdout",
     "output_type": "stream",
     "text": [
      "Index(['summary', 'Adventure', 'Angst', 'Drama', 'Family', 'Friendship',\n",
      "       'Humor', 'Hurt_Comfort', 'Romance'],\n",
      "      dtype='object')\n",
      "Index(['summary', 'Adventure', 'Angst', 'Drama', 'Family', 'Friendship',\n",
      "       'Humor', 'Hurt_Comfort', 'Romance'],\n",
      "      dtype='object')\n"
     ]
    }
   ],
   "source": [
    "typf_ffd7 = acc_barh_table('ffdump7.csv', '15_jun_2_typf_preds.csv', {0:'typf-ffd7'})"
   ]
  },
  {
   "cell_type": "code",
   "execution_count": 86,
   "id": "df7c563f",
   "metadata": {},
   "outputs": [
    {
     "name": "stdout",
     "output_type": "stream",
     "text": [
      "Index(['summary', 'Adventure', 'Angst', 'Drama', 'Family', 'Friendship',\n",
      "       'Humor', 'Hurt_Comfort', 'Romance'],\n",
      "      dtype='object')\n",
      "Index(['summary', 'Adventure', 'Angst', 'Drama', 'Family', 'Friendship',\n",
      "       'Humor', 'Hurt_Comfort', 'Romance'],\n",
      "      dtype='object')\n"
     ]
    }
   ],
   "source": [
    "valh_ffd7 = acc_barh_table('ffdump7.csv', '15_jun_2_valh_preds.csv', {0:'valh-ffd7'})"
   ]
  },
  {
   "cell_type": "code",
   "execution_count": 87,
   "id": "52b3421d",
   "metadata": {},
   "outputs": [
    {
     "name": "stdout",
     "output_type": "stream",
     "text": [
      "               2t2r      1t1r       2t1r       1t0r       2t0r\n",
      "fb-ffd7    1.351351  7.207207  26.576577  24.774775  40.090090\n",
      "typf-ffd7  1.801802  5.405405  18.918919  26.576577  47.297297\n",
      "valh-ffd7  1.351351  4.954955  23.423423  27.027027  43.243243\n"
     ]
    },
    {
     "data": {
      "image/png": "[encoded data removed]",
      "text/plain": [
       "<Figure size 432x288 with 1 Axes>"
      ]
     },
     "metadata": {
      "needs_background": "light"
     },
     "output_type": "display_data"
    }
   ],
   "source": [
    "acc_barh([fb_ffd7, typf_ffd7, valh_ffd7])"
   ]
  },
  {
   "cell_type": "code",
   "execution_count": null,
   "id": "abc4c750",
   "metadata": {},
   "outputs": [],
   "source": []
  }
 ],
 "metadata": {
  "kernelspec": {
   "display_name": "Python 3 (ipykernel)",
   "language": "python",
   "name": "python3"
  },
  "language_info": {
   "codemirror_mode": {
    "name": "ipython",
    "version": 3
   },
   "file_extension": ".py",
   "mimetype": "text/x-python",
   "name": "python",
   "nbconvert_exporter": "python",
   "pygments_lexer": "ipython3",
   "version": "3.9.7"
  }
 },
 "nbformat": 4,
 "nbformat_minor": 5
}

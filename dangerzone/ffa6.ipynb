{
 "cells": [
  {
   "cell_type": "code",
   "execution_count": 1,
   "id": "1dc4acca",
   "metadata": {},
   "outputs": [],
   "source": [
    "from ff_analysis import ffa"
   ]
  },
  {
   "cell_type": "code",
   "execution_count": 3,
   "id": "fd3fee98",
   "metadata": {
    "scrolled": true
   },
   "outputs": [
    {
     "name": "stdout",
     "output_type": "stream",
     "text": [
      "Western           0.0\n",
      "General           0.0\n",
      "Spiritual         4.0\n",
      "Crime             6.0\n",
      "Poetry            8.0\n",
      "Horror           14.0\n",
      "Mystery          16.0\n",
      "Parody           18.0\n",
      "Suspense         20.0\n",
      "Supernatural     25.0\n",
      "Tragedy          32.0\n",
      "Sci_Fi           34.0\n",
      "Fantasy          47.0\n",
      "Adventure        80.0\n",
      "Drama           135.0\n",
      "Angst           169.0\n",
      "Friendship      223.0\n",
      "Hurt_Comfort    238.0\n",
      "Family          250.0\n",
      "Humor           262.0\n",
      "Romance         583.0\n",
      "dtype: object\n",
      "79\n",
      "0.0\n",
      "8.019246190858059\n",
      "16.038492381716118\n",
      "24.057738572574177\n",
      "32.076984763432236\n",
      "40.0962309542903\n",
      "48.115477145148354\n",
      "56.13472333600642\n",
      "64.15396952686447\n",
      "72.17321571772254\n",
      "80.1924619085806\n",
      "88.21170809943865\n",
      "96.23095429029671\n",
      "AxesSubplot(0.125,0.125;0.775x0.755)\n"
     ]
    },
    {
     "data": {
      "image/png": "[encoded data removed]",
      "text/plain": [
       "<Figure size 432x288 with 1 Axes>"
      ]
     },
     "metadata": {
      "needs_background": "light"
     },
     "output_type": "display_data"
    }
   ],
   "source": [
    "ffa('ffdump5.txt', 'ff_train_5')"
   ]
  },
  {
   "cell_type": "code",
   "execution_count": null,
   "id": "cee41c58",
   "metadata": {},
   "outputs": [],
   "source": [
    "#test and train files are the same im crying"
   ]
  }
 ],
 "metadata": {
  "kernelspec": {
   "display_name": "Python 3 (ipykernel)",
   "language": "python",
   "name": "python3"
  },
  "language_info": {
   "codemirror_mode": {
    "name": "ipython",
    "version": 3
   },
   "file_extension": ".py",
   "mimetype": "text/x-python",
   "name": "python",
   "nbconvert_exporter": "python",
   "pygments_lexer": "ipython3",
   "version": "3.9.7"
  }
 },
 "nbformat": 4,
 "nbformat_minor": 5
}

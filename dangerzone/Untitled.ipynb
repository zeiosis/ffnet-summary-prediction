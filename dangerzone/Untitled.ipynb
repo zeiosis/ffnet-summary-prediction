{
 "cells": [
  {
   "cell_type": "code",
   "execution_count": 3,
   "id": "3ee3af94",
   "metadata": {},
   "outputs": [
    {
     "name": "stdout",
     "output_type": "stream",
     "text": [
      "\n",
      "\n"
     ]
    }
   ],
   "source": [
    "!echo $VIRTUAL_ENV\n",
    "!python -m venv MLTC_BERT_test_2\n",
    "!source MLTC_BERT_test_2/bin/activate\n",
    "!echo $VIRTUAL_ENV"
   ]
  },
  {
   "cell_type": "code",
   "execution_count": null,
   "id": "58c19d87",
   "metadata": {},
   "outputs": [],
   "source": []
  }
 ],
 "metadata": {
  "kernelspec": {
   "display_name": "Python 3 (ipykernel)",
   "language": "python",
   "name": "python3"
  },
  "language_info": {
   "codemirror_mode": {
    "name": "ipython",
    "version": 3
   },
   "file_extension": ".py",
   "mimetype": "text/x-python",
   "name": "python",
   "nbconvert_exporter": "python",
   "pygments_lexer": "ipython3",
   "version": "3.9.7"
  }
 },
 "nbformat": 4,
 "nbformat_minor": 5
}

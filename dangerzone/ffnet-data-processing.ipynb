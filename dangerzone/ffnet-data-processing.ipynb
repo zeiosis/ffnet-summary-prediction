{
 "cells": [
  {
   "cell_type": "markdown",
   "id": "e32ee680",
   "metadata": {},
   "source": [
    "First step: manually copy to text file contents of ff.net pages. <br><br>\n",
    "```webtext2dict``` converts this raw text into ```dict``` with summary:genre key/value pairs:"
   ]
  },
  {
   "cell_type": "code",
   "execution_count": 170,
   "id": "6fed5f13",
   "metadata": {
    "scrolled": true
   },
   "outputs": [],
   "source": [
    "def webtext2dict(text):\n",
    "    from re import findall\n",
    "    slistlite = findall(r\"iews\\n.*\\nR\", text)\n",
    "    slist = []\n",
    "    for x in slistlite:\n",
    "        slist.append(x[5:len(x)-2])\n",
    "        \n",
    "    glistlite = findall(r\"h - .*? - C|h - Ch\", text)\n",
    "    glist = []\n",
    "    for x in glistlite:\n",
    "        glist.append(x[4:len(x)-4])\n",
    "    \n",
    "    sumgenr_dict = {}\n",
    "    for x in range(len(slist)):\n",
    "        sumgenr_dict[slist[x]] = glist[x]\n",
    "        \n",
    "    keyremoveset = set()\n",
    "    for key in sumgenr_dict:\n",
    "        if len(sumgenr_dict[key]) > 30:\n",
    "            keyremoveset.add(key)\n",
    "    \n",
    "    for x in keyremoveset:\n",
    "        sumgenr_dict.pop(x, None)\n",
    "\n",
    "    return sumgenr_dict\n",
    "\n",
    "def dictclean(inputdict):\n",
    "    #1st pass for Hurt/Comfort > Hurt_Comfort, s-f>s_f naming inconsistencies b/c vars dont support dashes\n",
    "    #2nd pass to get rid of other slashes (k/j > [k, j])\n",
    "\n",
    "    from re import sub\n",
    "    \n",
    "    hc_repl_list = []\n",
    "    \n",
    "    for key in inputdict:\n",
    "        if 'Hurt/Comfort' in inputdict[key]:\n",
    "            hc_repl_list.append(key)\n",
    "            \n",
    "    for x in hc_repl_list:\n",
    "        inputdict[x] = sub('Hurt/Comfort', 'Hurt_Comfort', inputdict[x])\n",
    "        \n",
    "        \n",
    "    sf_repl_list = []\n",
    "    \n",
    "    for key in inputdict:\n",
    "        if 'Sci-Fi' in inputdict[key]:\n",
    "            sf_repl_list.append(key)\n",
    "            \n",
    "    for x in sf_repl_list:\n",
    "        inputdict[x] = sub('Sci-Fi', 'Sci_Fi', inputdict[x])\n",
    "    \n",
    "    #1st pass done\n",
    "    \n",
    "    for key in inputdict:\n",
    "        inputdict[key] = inputdict[key].split('/')\n",
    "        \n",
    "    #2nd pass done \n",
    "    \n",
    "def ffdict_to_df(dfdict):\n",
    "    import pandas as pd\n",
    "    df = pd.DataFrame()\n",
    "    df = df.assign(Summary=0, Adventure=0, Angst=0, Crime=0, Drama=0, Family=0,\\\n",
    "                   Fantasy=0, Friendship=0, General=0, Horror=0, Humor=0,\\\n",
    "                   Hurt_Comfort=0, Mystery=0, Parody=0, Poetry=0, Romance=0,\\\n",
    "                   Sci_Fi=0, Spiritual=0, Supernatural=0, Suspense=0, Tragedy=0, Western=0) #works for ffnet.\n",
    "    for x in dfdict:\n",
    "        r2 = {}\n",
    "        r2['Summary'] = x\n",
    "        for values in dfdict[x]:\n",
    "            if values != '':\n",
    "                r2[values] = 1\n",
    "        df = df.append(r2, ignore_index=True)\n",
    "        \n",
    "    df = df.fillna(0)\n",
    "    return df\n",
    "\n",
    "def ffcoll_to_df(filename):\n",
    "    #basically just go on ffnet and control a control c everything into a txt file.\n",
    "    #This works with multiple pages in one file as well.\n",
    "    f = open(filename, \"r\")\n",
    "    rawtext1 = f.read()\n",
    "    f.close \n",
    "    \n",
    "    r1 = webtext2dict(rawtext1)\n",
    "    dictclean(r1)\n",
    "    df = ffdict_to_df(r1)\n",
    "    \n",
    "    return df"
   ]
  },
  {
   "cell_type": "markdown",
   "id": "71fd2066",
   "metadata": {},
   "source": [
    "Now packaged into one function:"
   ]
  },
  {
   "cell_type": "code",
   "execution_count": 171,
   "id": "395452e7",
   "metadata": {
    "scrolled": true
   },
   "outputs": [],
   "source": [
    "df = ffcoll_to_df(\"rawwebtext-p21-inuy-ffnet\") #replace filename as needed"
   ]
  },
  {
   "cell_type": "markdown",
   "id": "7341efc9",
   "metadata": {},
   "source": [
    "Last page scraped: page 21 (https://www.fanfiction.net/anime/Inuyasha/?&srt=4&lan=1&r=103&p=21). Equivalent to number of data points."
   ]
  },
  {
   "cell_type": "markdown",
   "id": "f5160109",
   "metadata": {},
   "source": [
    "Now, this dict must be reformatted to one-hot encoding (technically not one-hot, but you get what I mean)."
   ]
  },
  {
   "cell_type": "code",
   "execution_count": 180,
   "id": "dc6c050e",
   "metadata": {},
   "outputs": [
    {
     "data": {
      "text/plain": [
       "Summary         Something goes awry during a trip through the ...\n",
       "Adventure                                                    86.0\n",
       "Angst                                                        32.0\n",
       "Crime                                                         1.0\n",
       "Drama                                                       107.0\n",
       "Family                                                       20.0\n",
       "Fantasy                                                       9.0\n",
       "Friendship                                                   16.0\n",
       "General                                                       0.0\n",
       "Horror                                                        2.0\n",
       "Humor                                                       174.0\n",
       "Hurt_Comfort                                                 10.0\n",
       "Mystery                                                       3.0\n",
       "Parody                                                        2.0\n",
       "Poetry                                                        0.0\n",
       "Romance                                                     440.0\n",
       "Sci_Fi                                                        1.0\n",
       "Spiritual                                                     1.0\n",
       "Supernatural                                                 14.0\n",
       "Suspense                                                      0.0\n",
       "Tragedy                                                       2.0\n",
       "Western                                                       0.0\n",
       "dtype: object"
      ]
     },
     "execution_count": 180,
     "metadata": {},
     "output_type": "execute_result"
    }
   ],
   "source": [
    "df.tail() #next step: get more varied content plssssssssssssssssssssss\n",
    "#also extend to ao3 that would be infinitely more interesting\n",
    "\n",
    "df.sum(axis=0) #possible to drop classes with low representation?\n",
    "#get more data from more varied sources"
   ]
  },
  {
   "cell_type": "markdown",
   "id": "90d3821c",
   "metadata": {},
   "source": [
    "<h1>That's it.</h1>"
   ]
  },
  {
   "cell_type": "code",
   "execution_count": 181,
   "id": "51a172e7",
   "metadata": {},
   "outputs": [],
   "source": [
    "df.to_csv('ff_train_1.csv') #code in colab depends on there being unnamed:0 column and im too lazy to fix that"
   ]
  },
  {
   "cell_type": "code",
   "execution_count": 173,
   "id": "5f57b51e",
   "metadata": {},
   "outputs": [],
   "source": [
    "#list(df.columns[1:]) #tags"
   ]
  },
  {
   "cell_type": "code",
   "execution_count": 174,
   "id": "b578b8f4",
   "metadata": {
    "scrolled": true
   },
   "outputs": [],
   "source": [
    "#pred_df = pd.read_csv('predictions-ffnet-1.csv').drop('Unnamed: 0', axis=1)\n",
    "#pred_df.tail()"
   ]
  }
 ],
 "metadata": {
  "kernelspec": {
   "display_name": "Python 3 (ipykernel)",
   "language": "python",
   "name": "python3"
  },
  "language_info": {
   "codemirror_mode": {
    "name": "ipython",
    "version": 3
   },
   "file_extension": ".py",
   "mimetype": "text/x-python",
   "name": "python",
   "nbconvert_exporter": "python",
   "pygments_lexer": "ipython3",
   "version": "3.9.7"
  }
 },
 "nbformat": 4,
 "nbformat_minor": 5
}

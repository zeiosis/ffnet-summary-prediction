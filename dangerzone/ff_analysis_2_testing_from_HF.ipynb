{
 "cells": [
  {
   "cell_type": "code",
   "execution_count": 197,
   "id": "ca3b326e",
   "metadata": {},
   "outputs": [],
   "source": [
    "from ff_analysis_tools import ffcoll_to_df\n",
    "import pandas as pd"
   ]
  },
  {
   "cell_type": "code",
   "execution_count": 198,
   "id": "1635b3ad",
   "metadata": {},
   "outputs": [],
   "source": [
    "test_sums_df = ffcoll_to_df('ffa_test_3.txt', drop_rare=True)"
   ]
  },
  {
   "cell_type": "code",
   "execution_count": 199,
   "id": "3f32772d",
   "metadata": {},
   "outputs": [],
   "source": [
    "summaries_df = test_sums_df.astype('int', errors='ignore')"
   ]
  },
  {
   "cell_type": "code",
   "execution_count": 200,
   "id": "d057dc05",
   "metadata": {},
   "outputs": [],
   "source": [
    "summaries_df = summaries_df.rename(columns={'Summary': 'summary'}) #annoying but necessary"
   ]
  },
  {
   "cell_type": "markdown",
   "id": "ddcb2902",
   "metadata": {},
   "source": [
    "# Comparison code"
   ]
  },
  {
   "cell_type": "code",
   "execution_count": 201,
   "id": "0d8fd949",
   "metadata": {
    "scrolled": true
   },
   "outputs": [],
   "source": [
    "#compdf = preds_df.compare(summaries_df)\n",
    "#compdf.iloc[0]\n",
    "def prediction_error(df1, df2): #place one-hotted tables: truth vs predictions\n",
    "    compdf = df1.compare(df2)\n",
    "    single_wrong = 0\n",
    "    double_wrong = 0\n",
    "    for x in range(len(compdf)):\n",
    "        if compdf.iloc[x].sum() == 2:\n",
    "            double_wrong += 1 #probably the best metric imo, returns no. of 0-err, 1-err, 2-errs\n",
    "        else:\n",
    "            single_wrong += 1\n",
    "    \n",
    "    return {'0-wrong': len(df2) - len(compdf), '1-wrong': single_wrong, '2-wrong': double_wrong}"
   ]
  },
  {
   "cell_type": "code",
   "execution_count": 218,
   "id": "fb574657",
   "metadata": {},
   "outputs": [],
   "source": [
    "fb_preds_df = pd.read_csv('facebook_bart-large-mnli_preds.csv')\n",
    "td_preds_df = pd.read_csv('typeform_distilbert-base-uncased-mnli_preds.csv')\n",
    "vh_preds_df = pd.read_csv('valhalla_distilbart-mnli-12-1_preds.csv')\n",
    "preds_df = pd.read_csv('preds-1-jun-2.csv')\n",
    "new_preds_df = pd.read_csv('ff_analysis_3.csv')"
   ]
  },
  {
   "cell_type": "code",
   "execution_count": 219,
   "id": "7ba3c458",
   "metadata": {},
   "outputs": [
    {
     "name": "stdout",
     "output_type": "stream",
     "text": [
      "facebook/bart-large-mnli: {'0-wrong': 8, '1-wrong': 66, '2-wrong': 49}\n",
      "typeform/distilbert-base-uncased-mnli: {'0-wrong': 2, '1-wrong': 91, '2-wrong': 30}\n",
      "valhalla/distilbart-mnli-12-1: {'0-wrong': 5, '1-wrong': 74, '2-wrong': 44}\n",
      "zdreiosis/ff_analysis_2: {'0-wrong': 37, '1-wrong': 40, '2-wrong': 46}\n",
      "zdreiosis/ff_analysis_3: {'0-wrong': 40, '1-wrong': 40, '2-wrong': 43}\n"
     ]
    }
   ],
   "source": [
    "df_names = {'facebook/bart-large-mnli': fb_preds_df, 'typeform/distilbert-base-uncased-mnli': td_preds_df,\\\n",
    " 'valhalla/distilbart-mnli-12-1': vh_preds_df, 'zdreiosis/ff_analysis_2': preds_df, \\\n",
    "            'zdreiosis/ff_analysis_3': new_preds_df}\n",
    "\n",
    "for x in df_names:\n",
    "    print(x + ': ' + str(prediction_error(df_names[x], summaries_df)))"
   ]
  },
  {
   "cell_type": "code",
   "execution_count": 220,
   "id": "cb6c34df",
   "metadata": {},
   "outputs": [],
   "source": [
    "reslist = []\n",
    "\n",
    "for x in df_names:\n",
    "    k = []\n",
    "    for y in prediction_error(df_names[x], summaries_df).values():\n",
    "        k.append(y)\n",
    "    reslist.append(k)"
   ]
  },
  {
   "cell_type": "code",
   "execution_count": 229,
   "id": "d045211f",
   "metadata": {},
   "outputs": [],
   "source": [
    "resdf = pd.DataFrame(reslist, index=[x for x in df_names], columns=['0-wrong', '1-wrong', '2-wrong'])"
   ]
  },
  {
   "cell_type": "code",
   "execution_count": 230,
   "id": "7d9bd561",
   "metadata": {
    "scrolled": true
   },
   "outputs": [],
   "source": [
    "kresdf = resdf.applymap(lambda x: 100 * (x / (resdf.iloc[1].sum())))"
   ]
  },
  {
   "cell_type": "code",
   "execution_count": 234,
   "id": "8a798ba8",
   "metadata": {
    "scrolled": false
   },
   "outputs": [
    {
     "data": {
      "text/plain": [
       "<AxesSubplot:>"
      ]
     },
     "execution_count": 234,
     "metadata": {},
     "output_type": "execute_result"
    },
    {
     "data": {
      "image/png": "[encoded data removed]",
      "text/plain": [
       "<Figure size 432x288 with 1 Axes>"
      ]
     },
     "metadata": {
      "needs_background": "light"
     },
     "output_type": "display_data"
    }
   ],
   "source": [
    "kresdf.plot.barh(stacked=True, color={'0-wrong':'green', '1-wrong':'yellow', '2-wrong':'red'}) \n",
    "#the thing is this data isnt very good, coming from only one source. eh."
   ]
  },
  {
   "cell_type": "markdown",
   "id": "c2802ecb",
   "metadata": {},
   "source": [
    "# Analysis 2"
   ]
  },
  {
   "cell_type": "code",
   "execution_count": 328,
   "id": "468101eb",
   "metadata": {},
   "outputs": [],
   "source": [
    "by_new_test_sums_df = ffcoll_to_df('ffdump5.txt', drop_rare=True)"
   ]
  },
  {
   "cell_type": "code",
   "execution_count": 329,
   "id": "b325a91e",
   "metadata": {},
   "outputs": [
    {
     "data": {
      "text/html": [
       "<div>\n",
       "<style scoped>\n",
       "    .dataframe tbody tr th:only-of-type {\n",
       "        vertical-align: middle;\n",
       "    }\n",
       "\n",
       "    .dataframe tbody tr th {\n",
       "        vertical-align: top;\n",
       "    }\n",
       "\n",
       "    .dataframe thead th {\n",
       "        text-align: right;\n",
       "    }\n",
       "</style>\n",
       "<table border=\"1\" class=\"dataframe\">\n",
       "  <thead>\n",
       "    <tr style=\"text-align: right;\">\n",
       "      <th></th>\n",
       "      <th>Summary</th>\n",
       "      <th>Adventure</th>\n",
       "      <th>Angst</th>\n",
       "      <th>Drama</th>\n",
       "      <th>Family</th>\n",
       "      <th>Friendship</th>\n",
       "      <th>Humor</th>\n",
       "      <th>Hurt_Comfort</th>\n",
       "      <th>Romance</th>\n",
       "    </tr>\n",
       "  </thead>\n",
       "  <tbody>\n",
       "    <tr>\n",
       "      <th>1242</th>\n",
       "      <td>Teeth reflects after failing to collect on Spi...</td>\n",
       "      <td>0.0</td>\n",
       "      <td>0.0</td>\n",
       "      <td>1.0</td>\n",
       "      <td>0.0</td>\n",
       "      <td>0.0</td>\n",
       "      <td>0.0</td>\n",
       "      <td>0.0</td>\n",
       "      <td>0.0</td>\n",
       "    </tr>\n",
       "    <tr>\n",
       "      <th>1243</th>\n",
       "      <td>Instead of Toth hitting Xander, he hits Spike....</td>\n",
       "      <td>0.0</td>\n",
       "      <td>1.0</td>\n",
       "      <td>1.0</td>\n",
       "      <td>0.0</td>\n",
       "      <td>0.0</td>\n",
       "      <td>0.0</td>\n",
       "      <td>0.0</td>\n",
       "      <td>0.0</td>\n",
       "    </tr>\n",
       "    <tr>\n",
       "      <th>1244</th>\n",
       "      <td>When Buffy jumped through Glory's portal, she ...</td>\n",
       "      <td>0.0</td>\n",
       "      <td>0.0</td>\n",
       "      <td>0.0</td>\n",
       "      <td>0.0</td>\n",
       "      <td>0.0</td>\n",
       "      <td>1.0</td>\n",
       "      <td>0.0</td>\n",
       "      <td>1.0</td>\n",
       "    </tr>\n",
       "    <tr>\n",
       "      <th>1245</th>\n",
       "      <td>Bob the Minions walks into a bar and meets Xan...</td>\n",
       "      <td>0.0</td>\n",
       "      <td>0.0</td>\n",
       "      <td>0.0</td>\n",
       "      <td>0.0</td>\n",
       "      <td>0.0</td>\n",
       "      <td>0.0</td>\n",
       "      <td>0.0</td>\n",
       "      <td>1.0</td>\n",
       "    </tr>\n",
       "    <tr>\n",
       "      <th>1246</th>\n",
       "      <td>A novelisation of episodes from the first thre...</td>\n",
       "      <td>0.0</td>\n",
       "      <td>0.0</td>\n",
       "      <td>0.0</td>\n",
       "      <td>0.0</td>\n",
       "      <td>1.0</td>\n",
       "      <td>0.0</td>\n",
       "      <td>0.0</td>\n",
       "      <td>1.0</td>\n",
       "    </tr>\n",
       "  </tbody>\n",
       "</table>\n",
       "</div>"
      ],
      "text/plain": [
       "                                                Summary  Adventure  Angst  \\\n",
       "1242  Teeth reflects after failing to collect on Spi...        0.0    0.0   \n",
       "1243  Instead of Toth hitting Xander, he hits Spike....        0.0    1.0   \n",
       "1244  When Buffy jumped through Glory's portal, she ...        0.0    0.0   \n",
       "1245  Bob the Minions walks into a bar and meets Xan...        0.0    0.0   \n",
       "1246  A novelisation of episodes from the first thre...        0.0    0.0   \n",
       "\n",
       "      Drama  Family  Friendship  Humor  Hurt_Comfort  Romance  \n",
       "1242    1.0     0.0         0.0    0.0           0.0      0.0  \n",
       "1243    1.0     0.0         0.0    0.0           0.0      0.0  \n",
       "1244    0.0     0.0         0.0    1.0           0.0      1.0  \n",
       "1245    0.0     0.0         0.0    0.0           0.0      1.0  \n",
       "1246    0.0     0.0         1.0    0.0           0.0      1.0  "
      ]
     },
     "execution_count": 329,
     "metadata": {},
     "output_type": "execute_result"
    }
   ],
   "source": [
    "by_new_test_sums_df.tail()"
   ]
  },
  {
   "cell_type": "code",
   "execution_count": 330,
   "id": "f319d267",
   "metadata": {},
   "outputs": [],
   "source": [
    "N_summaries_df = by_new_test_sums_df.astype('int', errors='ignore')"
   ]
  },
  {
   "cell_type": "code",
   "execution_count": 331,
   "id": "2366a749",
   "metadata": {},
   "outputs": [],
   "source": [
    "N_summaries_df = N_summaries_df.rename(columns={'Summary': 'summary'}) #annoying but necessary"
   ]
  },
  {
   "cell_type": "code",
   "execution_count": 338,
   "id": "1fc68fc7",
   "metadata": {},
   "outputs": [],
   "source": [
    "N_fb_preds_df = pd.read_csv('14_jun_fb_preds.csv')\n",
    "N_td_preds_df = pd.read_csv('14_jun_typf_preds.csv')\n",
    "N_vh_preds_df = pd.read_csv('14_jun_valh_preds.csv')\n",
    "N_zdr2_preds_df = pd.read_csv('14_jun_zdr2_preds.csv')\n",
    "N_zdr3_preds_df = pd.read_csv('14_jun_zdr3_preds.csv')\n",
    "N_zdr4_preds_df = pd.read_csv('14_jun_zdr4_preds.csv')"
   ]
  },
  {
   "cell_type": "code",
   "execution_count": 344,
   "id": "154b656e",
   "metadata": {
    "scrolled": true
   },
   "outputs": [
    {
     "name": "stdout",
     "output_type": "stream",
     "text": [
      "facebook/bart-large-mnli: {'0-wrong': 22, '1-wrong': 900, '2-wrong': 325}\n",
      "typeform/distilbert-base-uncased-mnli: {'0-wrong': 18, '1-wrong': 924, '2-wrong': 305}\n",
      "valhalla/distilbart-mnli-12-1: {'0-wrong': 11, '1-wrong': 930, '2-wrong': 306}\n",
      "zdreiosis/ff_analysis_2: {'0-wrong': 740, '1-wrong': 460, '2-wrong': 47}\n",
      "zdreiosis/ff_analysis_3: {'0-wrong': 740, '1-wrong': 460, '2-wrong': 47}\n",
      "zdreiosis/ff_analysis_4: {'0-wrong': 740, '1-wrong': 460, '2-wrong': 47}\n"
     ]
    }
   ],
   "source": [
    "N_df_names = {'facebook/bart-large-mnli': N_fb_preds_df, 'typeform/distilbert-base-uncased-mnli': N_td_preds_df,\\\n",
    " 'valhalla/distilbart-mnli-12-1': N_vh_preds_df, 'zdreiosis/ff_analysis_2': N_zdr2_preds_df, \\\n",
    "            'zdreiosis/ff_analysis_3': N_zdr3_preds_df, 'zdreiosis/ff_analysis_4': N_zdr4_preds_df}\n",
    "for x in N_df_names:\n",
    "    print(x + ': ' + str(prediction_error(N_df_names[x], N_summaries_df)))"
   ]
  },
  {
   "cell_type": "code",
   "execution_count": 346,
   "id": "069f6515",
   "metadata": {},
   "outputs": [],
   "source": [
    "N_reslist = []\n",
    "\n",
    "for x in N_df_names:\n",
    "    k = []\n",
    "    for y in prediction_error(N_df_names[x], N_summaries_df).values():\n",
    "        k.append(y)\n",
    "    N_reslist.append(k)"
   ]
  },
  {
   "cell_type": "code",
   "execution_count": 347,
   "id": "5d18626f",
   "metadata": {
    "scrolled": true
   },
   "outputs": [
    {
     "data": {
      "text/plain": [
       "[[22, 900, 325],\n",
       " [18, 924, 305],\n",
       " [11, 930, 306],\n",
       " [740, 460, 47],\n",
       " [740, 460, 47],\n",
       " [740, 460, 47]]"
      ]
     },
     "execution_count": 347,
     "metadata": {},
     "output_type": "execute_result"
    }
   ],
   "source": [
    "N_reslist"
   ]
  },
  {
   "cell_type": "code",
   "execution_count": 348,
   "id": "65285796",
   "metadata": {},
   "outputs": [
    {
     "data": {
      "text/plain": [
       "<AxesSubplot:>"
      ]
     },
     "execution_count": 348,
     "metadata": {},
     "output_type": "execute_result"
    },
    {
     "data": {
      "image/png": "[encoded data removed]",
      "text/plain": [
       "<Figure size 432x288 with 1 Axes>"
      ]
     },
     "metadata": {
      "needs_background": "light"
     },
     "output_type": "display_data"
    }
   ],
   "source": [
    "N_resdf = pd.DataFrame(N_reslist, index=[x for x in N_df_names], columns=['0-wrong', '1-wrong', '2-wrong'])\n",
    "N_kresdf = N_resdf.applymap(lambda x: 100 * (x / (N_resdf.iloc[1].sum())))\n",
    "N_kresdf.plot.barh(stacked=True, color={'0-wrong':'green', '1-wrong':'yellow', '2-wrong':'red'})"
   ]
  },
  {
   "cell_type": "markdown",
   "id": "5603830d",
   "metadata": {},
   "source": [
    "# Analysis 3"
   ]
  },
  {
   "cell_type": "code",
   "execution_count": 379,
   "id": "aeb87b0c",
   "metadata": {
    "scrolled": true
   },
   "outputs": [
    {
     "data": {
      "text/html": [
       "<div>\n",
       "<style scoped>\n",
       "    .dataframe tbody tr th:only-of-type {\n",
       "        vertical-align: middle;\n",
       "    }\n",
       "\n",
       "    .dataframe tbody tr th {\n",
       "        vertical-align: top;\n",
       "    }\n",
       "\n",
       "    .dataframe thead th {\n",
       "        text-align: right;\n",
       "    }\n",
       "</style>\n",
       "<table border=\"1\" class=\"dataframe\">\n",
       "  <thead>\n",
       "    <tr style=\"text-align: right;\">\n",
       "      <th></th>\n",
       "      <th>Summary</th>\n",
       "      <th>Adventure</th>\n",
       "      <th>Angst</th>\n",
       "      <th>Drama</th>\n",
       "      <th>Family</th>\n",
       "      <th>Friendship</th>\n",
       "      <th>Humor</th>\n",
       "      <th>Hurt_Comfort</th>\n",
       "      <th>Romance</th>\n",
       "    </tr>\n",
       "  </thead>\n",
       "  <tbody>\n",
       "    <tr>\n",
       "      <th>0</th>\n",
       "      <td>Sasuke learns why the toilet brush is kept in ...</td>\n",
       "      <td>0.0</td>\n",
       "      <td>0.0</td>\n",
       "      <td>0.0</td>\n",
       "      <td>0.0</td>\n",
       "      <td>0.0</td>\n",
       "      <td>0.0</td>\n",
       "      <td>0.0</td>\n",
       "      <td>1.0</td>\n",
       "    </tr>\n",
       "    <tr>\n",
       "      <th>1</th>\n",
       "      <td>A collection of Valentine's Day oneshots from ...</td>\n",
       "      <td>0.0</td>\n",
       "      <td>0.0</td>\n",
       "      <td>0.0</td>\n",
       "      <td>1.0</td>\n",
       "      <td>0.0</td>\n",
       "      <td>0.0</td>\n",
       "      <td>0.0</td>\n",
       "      <td>0.0</td>\n",
       "    </tr>\n",
       "    <tr>\n",
       "      <th>2</th>\n",
       "      <td>Konoha's sewers are a funny place. You can fin...</td>\n",
       "      <td>0.0</td>\n",
       "      <td>1.0</td>\n",
       "      <td>0.0</td>\n",
       "      <td>0.0</td>\n",
       "      <td>0.0</td>\n",
       "      <td>0.0</td>\n",
       "      <td>0.0</td>\n",
       "      <td>0.0</td>\n",
       "    </tr>\n",
       "    <tr>\n",
       "      <th>3</th>\n",
       "      <td>If there was any chance of forgetting this gir...</td>\n",
       "      <td>0.0</td>\n",
       "      <td>0.0</td>\n",
       "      <td>0.0</td>\n",
       "      <td>0.0</td>\n",
       "      <td>0.0</td>\n",
       "      <td>0.0</td>\n",
       "      <td>1.0</td>\n",
       "      <td>1.0</td>\n",
       "    </tr>\n",
       "    <tr>\n",
       "      <th>4</th>\n",
       "      <td>wherein Sakura clues Naruto in to the fact som...</td>\n",
       "      <td>0.0</td>\n",
       "      <td>0.0</td>\n",
       "      <td>0.0</td>\n",
       "      <td>1.0</td>\n",
       "      <td>0.0</td>\n",
       "      <td>1.0</td>\n",
       "      <td>0.0</td>\n",
       "      <td>0.0</td>\n",
       "    </tr>\n",
       "  </tbody>\n",
       "</table>\n",
       "</div>"
      ],
      "text/plain": [
       "                                             Summary  Adventure  Angst  Drama  \\\n",
       "0  Sasuke learns why the toilet brush is kept in ...        0.0    0.0    0.0   \n",
       "1  A collection of Valentine's Day oneshots from ...        0.0    0.0    0.0   \n",
       "2  Konoha's sewers are a funny place. You can fin...        0.0    1.0    0.0   \n",
       "3  If there was any chance of forgetting this gir...        0.0    0.0    0.0   \n",
       "4  wherein Sakura clues Naruto in to the fact som...        0.0    0.0    0.0   \n",
       "\n",
       "   Family  Friendship  Humor  Hurt_Comfort  Romance  \n",
       "0     0.0         0.0    0.0           0.0      1.0  \n",
       "1     1.0         0.0    0.0           0.0      0.0  \n",
       "2     0.0         0.0    0.0           0.0      0.0  \n",
       "3     0.0         0.0    0.0           1.0      1.0  \n",
       "4     1.0         0.0    1.0           0.0      0.0  "
      ]
     },
     "execution_count": 379,
     "metadata": {},
     "output_type": "execute_result"
    }
   ],
   "source": [
    "by_new_test_sums_df = ffcoll_to_df('ffdump6.txt', drop_rare=True)\n",
    "by_new_test_sums_df.head()"
   ]
  },
  {
   "cell_type": "code",
   "execution_count": 384,
   "id": "4c6d768b",
   "metadata": {},
   "outputs": [
    {
     "data": {
      "text/plain": [
       "Summary         wherein Sakura clues Naruto in to the fact som...\n",
       "Adventure                                                     0.0\n",
       "Angst                                                         0.0\n",
       "Drama                                                         0.0\n",
       "Family                                                        1.0\n",
       "Friendship                                                    0.0\n",
       "Humor                                                         1.0\n",
       "Hurt_Comfort                                                  0.0\n",
       "Romance                                                       0.0\n",
       "Name: 4, dtype: object"
      ]
     },
     "execution_count": 384,
     "metadata": {},
     "output_type": "execute_result"
    }
   ],
   "source": [
    "by_new_test_sums_df.iloc[4]"
   ]
  },
  {
   "cell_type": "code",
   "execution_count": 357,
   "id": "44caba28",
   "metadata": {},
   "outputs": [],
   "source": [
    "N_summaries_df = by_new_test_sums_df.astype('int', errors='ignore')\n",
    "N_summaries_df = N_summaries_df.rename(columns={'Summary': 'summary'})"
   ]
  },
  {
   "cell_type": "code",
   "execution_count": 381,
   "id": "e7e7f9d2",
   "metadata": {},
   "outputs": [],
   "source": [
    "N_fb_preds_df = pd.read_csv('15_jun_fb_preds.csv')\n",
    "N_td_preds_df = pd.read_csv('15_jun_typf_preds.csv')\n",
    "N_vh_preds_df = pd.read_csv('15_jun_valh_preds.csv')\n",
    "N_zdr2_preds_df = pd.read_csv('15_jun_zdr2_preds.csv')\n",
    "N_zdr3_preds_df = pd.read_csv('15_jun_zdr3_preds.csv')\n",
    "N_zdr4_preds_df = pd.read_csv('15_jun_zdr4_preds.csv')"
   ]
  },
  {
   "cell_type": "code",
   "execution_count": 354,
   "id": "fc65881d",
   "metadata": {},
   "outputs": [
    {
     "name": "stdout",
     "output_type": "stream",
     "text": [
      "facebook/bart-large-mnli: {'0-wrong': 0, '1-wrong': 188, '2-wrong': 63}\n",
      "typeform/distilbert-base-uncased-mnli: {'0-wrong': 2, '1-wrong': 190, '2-wrong': 59}\n",
      "valhalla/distilbart-mnli-12-1: {'0-wrong': 1, '1-wrong': 193, '2-wrong': 57}\n",
      "zdreiosis/ff_analysis_2: {'0-wrong': 7, '1-wrong': 166, '2-wrong': 78}\n",
      "zdreiosis/ff_analysis_3: {'0-wrong': 7, '1-wrong': 166, '2-wrong': 78}\n",
      "zdreiosis/ff_analysis_4: {'0-wrong': 7, '1-wrong': 166, '2-wrong': 78}\n"
     ]
    }
   ],
   "source": [
    "N_df_names = {'facebook/bart-large-mnli': N_fb_preds_df, 'typeform/distilbert-base-uncased-mnli': N_td_preds_df,\\\n",
    " 'valhalla/distilbart-mnli-12-1': N_vh_preds_df, 'zdreiosis/ff_analysis_2': N_zdr2_preds_df, \\\n",
    "            'zdreiosis/ff_analysis_3': N_zdr3_preds_df, 'zdreiosis/ff_analysis_4': N_zdr4_preds_df}\n",
    "for x in N_df_names:\n",
    "    print(x + ': ' + str(prediction_error(N_df_names[x], N_summaries_df)))"
   ]
  },
  {
   "cell_type": "code",
   "execution_count": 355,
   "id": "7257db4e",
   "metadata": {},
   "outputs": [],
   "source": [
    "N_reslist = []\n",
    "\n",
    "for x in N_df_names:\n",
    "    k = []\n",
    "    for y in prediction_error(N_df_names[x], N_summaries_df).values():\n",
    "        k.append(y)\n",
    "    N_reslist.append(k)"
   ]
  },
  {
   "cell_type": "code",
   "execution_count": 356,
   "id": "7213c2d3",
   "metadata": {},
   "outputs": [
    {
     "data": {
      "text/plain": [
       "<AxesSubplot:>"
      ]
     },
     "execution_count": 356,
     "metadata": {},
     "output_type": "execute_result"
    },
    {
     "data": {
      "image/png": "[encoded data removed]",
      "text/plain": [
       "<Figure size 432x288 with 1 Axes>"
      ]
     },
     "metadata": {
      "needs_background": "light"
     },
     "output_type": "display_data"
    }
   ],
   "source": [
    "N_resdf = pd.DataFrame(N_reslist, index=[x for x in N_df_names], columns=['0-wrong', '1-wrong', '2-wrong'])\n",
    "N_kresdf = N_resdf.applymap(lambda x: 100 * (x / (N_resdf.iloc[1].sum())))\n",
    "N_kresdf.plot.barh(stacked=True, color={'0-wrong':'green', '1-wrong':'yellow', '2-wrong':'red'})"
   ]
  },
  {
   "cell_type": "markdown",
   "id": "848352e9",
   "metadata": {},
   "source": [
    "# Analysis 4"
   ]
  },
  {
   "cell_type": "code",
   "execution_count": 422,
   "id": "bd1f0af0",
   "metadata": {},
   "outputs": [],
   "source": [
    "txt_src = 'ffdump7.txt'\n",
    "csv_model_name_dict = {\n",
    "    '15_jun_2_fb_preds.csv': 'facebook/bart-large-mnli',\n",
    "    '15_jun_2_typf_preds.csv': 'typeform/distilbert-base-uncased-mnli',\n",
    "    '15_jun_2_valh_preds.csv': 'valhalla/distilbart-mnli-12-1',\n",
    "    '15_jun_2_zdr2_preds.csv': 'zdreiosis/ff_analysis_2',\n",
    "    '15_jun_2_zdr3_preds.csv': 'zdreiosis/ff_analysis_3',\n",
    "    '15_jun_2_zdr4_preds.csv': 'zdreiosis/ff_analysis_4',\n",
    "    'PREDS_zdr5_ffdump7_2.csv': 'zdr5-test',\n",
    "}\n",
    "\n",
    "def accuracy_statistics(txt_src, csv_model_name_dict):\n",
    "    by_new_test_sums_df = ffcoll_to_df(txt_src, drop_rare=True)\n",
    "    \n",
    "    N_summaries_df = by_new_test_sums_df.astype('int', errors='ignore')\n",
    "    N_summaries_df = N_summaries_df.rename(columns={'Summary': 'summary'})\n",
    "    \n",
    "    N_df_names = {}\n",
    "    for x in csv_model_name_dict:\n",
    "        N_df_names[csv_model_name_dict[x]] = pd.read_csv(x)\n",
    "        \n",
    "    for x in N_df_names:\n",
    "        print(x + ': ' + str(prediction_error(N_df_names[x], N_summaries_df)))\n",
    "        \n",
    "    N_reslist = []\n",
    "\n",
    "    for x in N_df_names:\n",
    "        k = []\n",
    "        for y in prediction_error(N_df_names[x], N_summaries_df).values():\n",
    "            k.append(y)\n",
    "        N_reslist.append(k)\n",
    "    \n",
    "    N_resdf = pd.DataFrame(N_reslist, index=[x for x in N_df_names], columns=['0-wrong', '1-wrong', '2-wrong'])\n",
    "    N_kresdf = N_resdf.applymap(lambda x: 100 * (x / (N_resdf.iloc[1].sum())))\n",
    "    N_kresdf.plot.barh(stacked=True, color={'0-wrong':'green', '1-wrong':'yellow', '2-wrong':'red'})"
   ]
  },
  {
   "cell_type": "code",
   "execution_count": 423,
   "id": "f6893be6",
   "metadata": {
    "scrolled": true
   },
   "outputs": [
    {
     "name": "stdout",
     "output_type": "stream",
     "text": [
      "facebook/bart-large-mnli: {'0-wrong': 3, '1-wrong': 160, '2-wrong': 59}\n",
      "typeform/distilbert-base-uncased-mnli: {'0-wrong': 4, '1-wrong': 176, '2-wrong': 42}\n",
      "valhalla/distilbart-mnli-12-1: {'0-wrong': 3, '1-wrong': 167, '2-wrong': 52}\n",
      "zdreiosis/ff_analysis_2: {'0-wrong': 21, '1-wrong': 109, '2-wrong': 92}\n",
      "zdreiosis/ff_analysis_3: {'0-wrong': 21, '1-wrong': 109, '2-wrong': 92}\n",
      "zdreiosis/ff_analysis_4: {'0-wrong': 21, '1-wrong': 109, '2-wrong': 92}\n",
      "zdr5-test: {'0-wrong': 21, '1-wrong': 112, '2-wrong': 89}\n"
     ]
    },
    {
     "ename": "ValueError",
     "evalue": "Can only compare identically-labeled DataFrame objects",
     "output_type": "error",
     "traceback": [
      "\u001b[0;31m---------------------------------------------------------------------------\u001b[0m",
      "\u001b[0;31mValueError\u001b[0m                                Traceback (most recent call last)",
      "\u001b[0;32m/var/folders/68/7l2yjr4s33bf_30k7zvhq3r40000gn/T/ipykernel_68632/2340968830.py\u001b[0m in \u001b[0;36m<module>\u001b[0;34m\u001b[0m\n\u001b[0;32m----> 1\u001b[0;31m \u001b[0maccuracy_statistics\u001b[0m\u001b[0;34m(\u001b[0m\u001b[0mtxt_src\u001b[0m\u001b[0;34m,\u001b[0m \u001b[0mcsv_model_name_dict\u001b[0m\u001b[0;34m)\u001b[0m\u001b[0;34m\u001b[0m\u001b[0;34m\u001b[0m\u001b[0m\n\u001b[0m",
      "\u001b[0;32m/var/folders/68/7l2yjr4s33bf_30k7zvhq3r40000gn/T/ipykernel_68632/169384065.py\u001b[0m in \u001b[0;36maccuracy_statistics\u001b[0;34m(txt_src, csv_model_name_dict)\u001b[0m\n\u001b[1;32m     22\u001b[0m \u001b[0;34m\u001b[0m\u001b[0m\n\u001b[1;32m     23\u001b[0m     \u001b[0;32mfor\u001b[0m \u001b[0mx\u001b[0m \u001b[0;32min\u001b[0m \u001b[0mN_df_names\u001b[0m\u001b[0;34m:\u001b[0m\u001b[0;34m\u001b[0m\u001b[0;34m\u001b[0m\u001b[0m\n\u001b[0;32m---> 24\u001b[0;31m         \u001b[0mprint\u001b[0m\u001b[0;34m(\u001b[0m\u001b[0mx\u001b[0m \u001b[0;34m+\u001b[0m \u001b[0;34m': '\u001b[0m \u001b[0;34m+\u001b[0m \u001b[0mstr\u001b[0m\u001b[0;34m(\u001b[0m\u001b[0mprediction_error\u001b[0m\u001b[0;34m(\u001b[0m\u001b[0mN_df_names\u001b[0m\u001b[0;34m[\u001b[0m\u001b[0mx\u001b[0m\u001b[0;34m]\u001b[0m\u001b[0;34m,\u001b[0m \u001b[0mN_summaries_df\u001b[0m\u001b[0;34m)\u001b[0m\u001b[0;34m)\u001b[0m\u001b[0;34m)\u001b[0m\u001b[0;34m\u001b[0m\u001b[0;34m\u001b[0m\u001b[0m\n\u001b[0m\u001b[1;32m     25\u001b[0m \u001b[0;34m\u001b[0m\u001b[0m\n\u001b[1;32m     26\u001b[0m     \u001b[0mN_reslist\u001b[0m \u001b[0;34m=\u001b[0m \u001b[0;34m[\u001b[0m\u001b[0;34m]\u001b[0m\u001b[0;34m\u001b[0m\u001b[0;34m\u001b[0m\u001b[0m\n",
      "\u001b[0;32m/var/folders/68/7l2yjr4s33bf_30k7zvhq3r40000gn/T/ipykernel_68632/1600644735.py\u001b[0m in \u001b[0;36mprediction_error\u001b[0;34m(df1, df2)\u001b[0m\n\u001b[1;32m      2\u001b[0m \u001b[0;31m#compdf.iloc[0]\u001b[0m\u001b[0;34m\u001b[0m\u001b[0;34m\u001b[0m\u001b[0m\n\u001b[1;32m      3\u001b[0m \u001b[0;32mdef\u001b[0m \u001b[0mprediction_error\u001b[0m\u001b[0;34m(\u001b[0m\u001b[0mdf1\u001b[0m\u001b[0;34m,\u001b[0m \u001b[0mdf2\u001b[0m\u001b[0;34m)\u001b[0m\u001b[0;34m:\u001b[0m \u001b[0;31m#place one-hotted tables: truth vs predictions\u001b[0m\u001b[0;34m\u001b[0m\u001b[0;34m\u001b[0m\u001b[0m\n\u001b[0;32m----> 4\u001b[0;31m     \u001b[0mcompdf\u001b[0m \u001b[0;34m=\u001b[0m \u001b[0mdf1\u001b[0m\u001b[0;34m.\u001b[0m\u001b[0mcompare\u001b[0m\u001b[0;34m(\u001b[0m\u001b[0mdf2\u001b[0m\u001b[0;34m)\u001b[0m\u001b[0;34m\u001b[0m\u001b[0;34m\u001b[0m\u001b[0m\n\u001b[0m\u001b[1;32m      5\u001b[0m     \u001b[0msingle_wrong\u001b[0m \u001b[0;34m=\u001b[0m \u001b[0;36m0\u001b[0m\u001b[0;34m\u001b[0m\u001b[0;34m\u001b[0m\u001b[0m\n\u001b[1;32m      6\u001b[0m     \u001b[0mdouble_wrong\u001b[0m \u001b[0;34m=\u001b[0m \u001b[0;36m0\u001b[0m\u001b[0;34m\u001b[0m\u001b[0;34m\u001b[0m\u001b[0m\n",
      "\u001b[0;32m~/opt/anaconda3/lib/python3.9/site-packages/pandas/core/frame.py\u001b[0m in \u001b[0;36mcompare\u001b[0;34m(self, other, align_axis, keep_shape, keep_equal)\u001b[0m\n\u001b[1;32m   7111\u001b[0m         \u001b[0mkeep_equal\u001b[0m\u001b[0;34m:\u001b[0m \u001b[0mbool\u001b[0m \u001b[0;34m=\u001b[0m \u001b[0;32mFalse\u001b[0m\u001b[0;34m,\u001b[0m\u001b[0;34m\u001b[0m\u001b[0;34m\u001b[0m\u001b[0m\n\u001b[1;32m   7112\u001b[0m     ) -> DataFrame:\n\u001b[0;32m-> 7113\u001b[0;31m         return super().compare(\n\u001b[0m\u001b[1;32m   7114\u001b[0m             \u001b[0mother\u001b[0m\u001b[0;34m=\u001b[0m\u001b[0mother\u001b[0m\u001b[0;34m,\u001b[0m\u001b[0;34m\u001b[0m\u001b[0;34m\u001b[0m\u001b[0m\n\u001b[1;32m   7115\u001b[0m             \u001b[0malign_axis\u001b[0m\u001b[0;34m=\u001b[0m\u001b[0malign_axis\u001b[0m\u001b[0;34m,\u001b[0m\u001b[0;34m\u001b[0m\u001b[0;34m\u001b[0m\u001b[0m\n",
      "\u001b[0;32m~/opt/anaconda3/lib/python3.9/site-packages/pandas/core/generic.py\u001b[0m in \u001b[0;36mcompare\u001b[0;34m(self, other, align_axis, keep_shape, keep_equal)\u001b[0m\n\u001b[1;32m   8422\u001b[0m             )\n\u001b[1;32m   8423\u001b[0m \u001b[0;34m\u001b[0m\u001b[0m\n\u001b[0;32m-> 8424\u001b[0;31m         \u001b[0mmask\u001b[0m \u001b[0;34m=\u001b[0m \u001b[0;34m~\u001b[0m\u001b[0;34m(\u001b[0m\u001b[0;34m(\u001b[0m\u001b[0mself\u001b[0m \u001b[0;34m==\u001b[0m \u001b[0mother\u001b[0m\u001b[0;34m)\u001b[0m \u001b[0;34m|\u001b[0m \u001b[0;34m(\u001b[0m\u001b[0mself\u001b[0m\u001b[0;34m.\u001b[0m\u001b[0misna\u001b[0m\u001b[0;34m(\u001b[0m\u001b[0;34m)\u001b[0m \u001b[0;34m&\u001b[0m \u001b[0mother\u001b[0m\u001b[0;34m.\u001b[0m\u001b[0misna\u001b[0m\u001b[0;34m(\u001b[0m\u001b[0;34m)\u001b[0m\u001b[0;34m)\u001b[0m\u001b[0;34m)\u001b[0m\u001b[0;34m\u001b[0m\u001b[0;34m\u001b[0m\u001b[0m\n\u001b[0m\u001b[1;32m   8425\u001b[0m         \u001b[0mkeys\u001b[0m \u001b[0;34m=\u001b[0m \u001b[0;34m[\u001b[0m\u001b[0;34m\"self\"\u001b[0m\u001b[0;34m,\u001b[0m \u001b[0;34m\"other\"\u001b[0m\u001b[0;34m]\u001b[0m\u001b[0;34m\u001b[0m\u001b[0;34m\u001b[0m\u001b[0m\n\u001b[1;32m   8426\u001b[0m \u001b[0;34m\u001b[0m\u001b[0m\n",
      "\u001b[0;32m~/opt/anaconda3/lib/python3.9/site-packages/pandas/core/ops/common.py\u001b[0m in \u001b[0;36mnew_method\u001b[0;34m(self, other)\u001b[0m\n\u001b[1;32m     67\u001b[0m         \u001b[0mother\u001b[0m \u001b[0;34m=\u001b[0m \u001b[0mitem_from_zerodim\u001b[0m\u001b[0;34m(\u001b[0m\u001b[0mother\u001b[0m\u001b[0;34m)\u001b[0m\u001b[0;34m\u001b[0m\u001b[0;34m\u001b[0m\u001b[0m\n\u001b[1;32m     68\u001b[0m \u001b[0;34m\u001b[0m\u001b[0m\n\u001b[0;32m---> 69\u001b[0;31m         \u001b[0;32mreturn\u001b[0m \u001b[0mmethod\u001b[0m\u001b[0;34m(\u001b[0m\u001b[0mself\u001b[0m\u001b[0;34m,\u001b[0m \u001b[0mother\u001b[0m\u001b[0;34m)\u001b[0m\u001b[0;34m\u001b[0m\u001b[0;34m\u001b[0m\u001b[0m\n\u001b[0m\u001b[1;32m     70\u001b[0m \u001b[0;34m\u001b[0m\u001b[0m\n\u001b[1;32m     71\u001b[0m     \u001b[0;32mreturn\u001b[0m \u001b[0mnew_method\u001b[0m\u001b[0;34m\u001b[0m\u001b[0;34m\u001b[0m\u001b[0m\n",
      "\u001b[0;32m~/opt/anaconda3/lib/python3.9/site-packages/pandas/core/arraylike.py\u001b[0m in \u001b[0;36m__eq__\u001b[0;34m(self, other)\u001b[0m\n\u001b[1;32m     30\u001b[0m     \u001b[0;34m@\u001b[0m\u001b[0munpack_zerodim_and_defer\u001b[0m\u001b[0;34m(\u001b[0m\u001b[0;34m\"__eq__\"\u001b[0m\u001b[0;34m)\u001b[0m\u001b[0;34m\u001b[0m\u001b[0;34m\u001b[0m\u001b[0m\n\u001b[1;32m     31\u001b[0m     \u001b[0;32mdef\u001b[0m \u001b[0m__eq__\u001b[0m\u001b[0;34m(\u001b[0m\u001b[0mself\u001b[0m\u001b[0;34m,\u001b[0m \u001b[0mother\u001b[0m\u001b[0;34m)\u001b[0m\u001b[0;34m:\u001b[0m\u001b[0;34m\u001b[0m\u001b[0;34m\u001b[0m\u001b[0m\n\u001b[0;32m---> 32\u001b[0;31m         \u001b[0;32mreturn\u001b[0m \u001b[0mself\u001b[0m\u001b[0;34m.\u001b[0m\u001b[0m_cmp_method\u001b[0m\u001b[0;34m(\u001b[0m\u001b[0mother\u001b[0m\u001b[0;34m,\u001b[0m \u001b[0moperator\u001b[0m\u001b[0;34m.\u001b[0m\u001b[0meq\u001b[0m\u001b[0;34m)\u001b[0m\u001b[0;34m\u001b[0m\u001b[0;34m\u001b[0m\u001b[0m\n\u001b[0m\u001b[1;32m     33\u001b[0m \u001b[0;34m\u001b[0m\u001b[0m\n\u001b[1;32m     34\u001b[0m     \u001b[0;34m@\u001b[0m\u001b[0munpack_zerodim_and_defer\u001b[0m\u001b[0;34m(\u001b[0m\u001b[0;34m\"__ne__\"\u001b[0m\u001b[0;34m)\u001b[0m\u001b[0;34m\u001b[0m\u001b[0;34m\u001b[0m\u001b[0m\n",
      "\u001b[0;32m~/opt/anaconda3/lib/python3.9/site-packages/pandas/core/frame.py\u001b[0m in \u001b[0;36m_cmp_method\u001b[0;34m(self, other, op)\u001b[0m\n\u001b[1;32m   6849\u001b[0m         \u001b[0maxis\u001b[0m \u001b[0;34m=\u001b[0m \u001b[0;36m1\u001b[0m  \u001b[0;31m# only relevant for Series other case\u001b[0m\u001b[0;34m\u001b[0m\u001b[0;34m\u001b[0m\u001b[0m\n\u001b[1;32m   6850\u001b[0m \u001b[0;34m\u001b[0m\u001b[0m\n\u001b[0;32m-> 6851\u001b[0;31m         \u001b[0mself\u001b[0m\u001b[0;34m,\u001b[0m \u001b[0mother\u001b[0m \u001b[0;34m=\u001b[0m \u001b[0mops\u001b[0m\u001b[0;34m.\u001b[0m\u001b[0malign_method_FRAME\u001b[0m\u001b[0;34m(\u001b[0m\u001b[0mself\u001b[0m\u001b[0;34m,\u001b[0m \u001b[0mother\u001b[0m\u001b[0;34m,\u001b[0m \u001b[0maxis\u001b[0m\u001b[0;34m,\u001b[0m \u001b[0mflex\u001b[0m\u001b[0;34m=\u001b[0m\u001b[0;32mFalse\u001b[0m\u001b[0;34m,\u001b[0m \u001b[0mlevel\u001b[0m\u001b[0;34m=\u001b[0m\u001b[0;32mNone\u001b[0m\u001b[0;34m)\u001b[0m\u001b[0;34m\u001b[0m\u001b[0;34m\u001b[0m\u001b[0m\n\u001b[0m\u001b[1;32m   6852\u001b[0m \u001b[0;34m\u001b[0m\u001b[0m\n\u001b[1;32m   6853\u001b[0m         \u001b[0;31m# See GH#4537 for discussion of scalar op behavior\u001b[0m\u001b[0;34m\u001b[0m\u001b[0;34m\u001b[0m\u001b[0m\n",
      "\u001b[0;32m~/opt/anaconda3/lib/python3.9/site-packages/pandas/core/ops/__init__.py\u001b[0m in \u001b[0;36malign_method_FRAME\u001b[0;34m(left, right, axis, flex, level)\u001b[0m\n\u001b[1;32m    286\u001b[0m                 \u001b[0mleft\u001b[0m\u001b[0;34m,\u001b[0m \u001b[0mright\u001b[0m \u001b[0;34m=\u001b[0m \u001b[0mleft\u001b[0m\u001b[0;34m.\u001b[0m\u001b[0malign\u001b[0m\u001b[0;34m(\u001b[0m\u001b[0mright\u001b[0m\u001b[0;34m,\u001b[0m \u001b[0mjoin\u001b[0m\u001b[0;34m=\u001b[0m\u001b[0;34m\"outer\"\u001b[0m\u001b[0;34m,\u001b[0m \u001b[0mlevel\u001b[0m\u001b[0;34m=\u001b[0m\u001b[0mlevel\u001b[0m\u001b[0;34m,\u001b[0m \u001b[0mcopy\u001b[0m\u001b[0;34m=\u001b[0m\u001b[0;32mFalse\u001b[0m\u001b[0;34m)\u001b[0m\u001b[0;34m\u001b[0m\u001b[0;34m\u001b[0m\u001b[0m\n\u001b[1;32m    287\u001b[0m             \u001b[0;32melse\u001b[0m\u001b[0;34m:\u001b[0m\u001b[0;34m\u001b[0m\u001b[0;34m\u001b[0m\u001b[0m\n\u001b[0;32m--> 288\u001b[0;31m                 raise ValueError(\n\u001b[0m\u001b[1;32m    289\u001b[0m                     \u001b[0;34m\"Can only compare identically-labeled DataFrame objects\"\u001b[0m\u001b[0;34m\u001b[0m\u001b[0;34m\u001b[0m\u001b[0m\n\u001b[1;32m    290\u001b[0m                 )\n",
      "\u001b[0;31mValueError\u001b[0m: Can only compare identically-labeled DataFrame objects"
     ]
    }
   ],
   "source": [
    "accuracy_statistics(txt_src, csv_model_name_dict)"
   ]
  },
  {
   "cell_type": "code",
   "execution_count": 426,
   "id": "282b3b31",
   "metadata": {},
   "outputs": [],
   "source": [
    "txt_src = 'ff_dump_final.txt'\n",
    "csv_model_name_dict = {\n",
    "    'PREDS_zdr5_1_tdfs_list.csv': 'zdr5-train',\n",
    "    'PREDS_zdr5_1_tdfs_list.csv': 'zdr5-train-dummy'\n",
    "}\n",
    "\n",
    "def accuracy_statistics(txt_src, csv_model_name_dict):\n",
    "    by_new_test_sums_df = ffcoll_to_df(txt_src, drop_rare=True)\n",
    "    \n",
    "    N_summaries_df = by_new_test_sums_df.astype('int', errors='ignore')\n",
    "    N_summaries_df = N_summaries_df.rename(columns={'Summary': 'summary'})\n",
    "    \n",
    "    N_df_names = {}\n",
    "    for x in csv_model_name_dict:\n",
    "        N_df_names[csv_model_name_dict[x]] = pd.read_csv(x)\n",
    "    \n",
    "    \n",
    "    for x in N_df_names:\n",
    "        print(x + ': ' + str(prediction_error(N_df_names[x], N_summaries_df)))\n",
    "        \n",
    "    N_reslist = []\n",
    "\n",
    "    for x in N_df_names:\n",
    "        k = []\n",
    "        for y in prediction_error(N_df_names[x], N_summaries_df).values():\n",
    "            k.append(y)\n",
    "        N_reslist.append(k)\n",
    "    \n",
    "    N_resdf = pd.DataFrame(N_reslist, index=[x for x in N_df_names], columns=['0-wrong', '1-wrong', '2-wrong'])\n",
    "    N_kresdf = N_resdf.applymap(lambda x: 100 * (x / (N_resdf.iloc[1].sum())))\n",
    "    N_kresdf.plot.barh(stacked=True, color={'0-wrong':'green', '1-wrong':'yellow', '2-wrong':'red'})"
   ]
  },
  {
   "cell_type": "code",
   "execution_count": 428,
   "id": "42ac820d",
   "metadata": {},
   "outputs": [],
   "source": [
    "dftraink1 = pd.read_csv('15_jun_2_zdr4_preds.csv')"
   ]
  },
  {
   "cell_type": "code",
   "execution_count": 429,
   "id": "3cdabe68",
   "metadata": {},
   "outputs": [
    {
     "data": {
      "text/html": [
       "<div>\n",
       "<style scoped>\n",
       "    .dataframe tbody tr th:only-of-type {\n",
       "        vertical-align: middle;\n",
       "    }\n",
       "\n",
       "    .dataframe tbody tr th {\n",
       "        vertical-align: top;\n",
       "    }\n",
       "\n",
       "    .dataframe thead th {\n",
       "        text-align: right;\n",
       "    }\n",
       "</style>\n",
       "<table border=\"1\" class=\"dataframe\">\n",
       "  <thead>\n",
       "    <tr style=\"text-align: right;\">\n",
       "      <th></th>\n",
       "      <th>summary</th>\n",
       "      <th>Adventure</th>\n",
       "      <th>Angst</th>\n",
       "      <th>Drama</th>\n",
       "      <th>Family</th>\n",
       "      <th>Friendship</th>\n",
       "      <th>Humor</th>\n",
       "      <th>Hurt_Comfort</th>\n",
       "      <th>Romance</th>\n",
       "    </tr>\n",
       "  </thead>\n",
       "  <tbody>\n",
       "    <tr>\n",
       "      <th>217</th>\n",
       "      <td>Forced to be sociable by his so called friends...</td>\n",
       "      <td>0</td>\n",
       "      <td>0</td>\n",
       "      <td>0</td>\n",
       "      <td>0</td>\n",
       "      <td>0</td>\n",
       "      <td>0</td>\n",
       "      <td>1</td>\n",
       "      <td>1</td>\n",
       "    </tr>\n",
       "    <tr>\n",
       "      <th>218</th>\n",
       "      <td>Sequel to Tears of Rain: [SADLY DISCONTINUED]</td>\n",
       "      <td>0</td>\n",
       "      <td>1</td>\n",
       "      <td>0</td>\n",
       "      <td>1</td>\n",
       "      <td>0</td>\n",
       "      <td>0</td>\n",
       "      <td>0</td>\n",
       "      <td>0</td>\n",
       "    </tr>\n",
       "    <tr>\n",
       "      <th>219</th>\n",
       "      <td>Natsu and Erza had never met in their lives, b...</td>\n",
       "      <td>0</td>\n",
       "      <td>0</td>\n",
       "      <td>0</td>\n",
       "      <td>0</td>\n",
       "      <td>1</td>\n",
       "      <td>0</td>\n",
       "      <td>0</td>\n",
       "      <td>1</td>\n",
       "    </tr>\n",
       "    <tr>\n",
       "      <th>220</th>\n",
       "      <td>Everything has its own consequences. Lucy's de...</td>\n",
       "      <td>0</td>\n",
       "      <td>0</td>\n",
       "      <td>0</td>\n",
       "      <td>0</td>\n",
       "      <td>1</td>\n",
       "      <td>0</td>\n",
       "      <td>0</td>\n",
       "      <td>1</td>\n",
       "    </tr>\n",
       "    <tr>\n",
       "      <th>221</th>\n",
       "      <td>(Follow-up to my previous MidLu Halloween stor...</td>\n",
       "      <td>0</td>\n",
       "      <td>0</td>\n",
       "      <td>0</td>\n",
       "      <td>0</td>\n",
       "      <td>1</td>\n",
       "      <td>0</td>\n",
       "      <td>1</td>\n",
       "      <td>0</td>\n",
       "    </tr>\n",
       "  </tbody>\n",
       "</table>\n",
       "</div>"
      ],
      "text/plain": [
       "                                               summary  Adventure  Angst  \\\n",
       "217  Forced to be sociable by his so called friends...          0      0   \n",
       "218      Sequel to Tears of Rain: [SADLY DISCONTINUED]          0      1   \n",
       "219  Natsu and Erza had never met in their lives, b...          0      0   \n",
       "220  Everything has its own consequences. Lucy's de...          0      0   \n",
       "221  (Follow-up to my previous MidLu Halloween stor...          0      0   \n",
       "\n",
       "     Drama  Family  Friendship  Humor  Hurt_Comfort  Romance  \n",
       "217      0       0           0      0             1        1  \n",
       "218      0       1           0      0             0        0  \n",
       "219      0       0           1      0             0        1  \n",
       "220      0       0           1      0             0        1  \n",
       "221      0       0           1      0             1        0  "
      ]
     },
     "execution_count": 429,
     "metadata": {},
     "output_type": "execute_result"
    }
   ],
   "source": [
    "dftraink1.tail()"
   ]
  },
  {
   "cell_type": "code",
   "execution_count": null,
   "id": "6009b22b",
   "metadata": {},
   "outputs": [],
   "source": []
  }
 ],
 "metadata": {
  "kernelspec": {
   "display_name": "Python 3 (ipykernel)",
   "language": "python",
   "name": "python3"
  },
  "language_info": {
   "codemirror_mode": {
    "name": "ipython",
    "version": 3
   },
   "file_extension": ".py",
   "mimetype": "text/x-python",
   "name": "python",
   "nbconvert_exporter": "python",
   "pygments_lexer": "ipython3",
   "version": "3.9.7"
  }
 },
 "nbformat": 4,
 "nbformat_minor": 5
}

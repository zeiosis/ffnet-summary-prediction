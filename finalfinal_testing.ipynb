{
  "cells": [
    {
      "cell_type": "markdown",
      "metadata": {
        "id": "view-in-github",
        "colab_type": "text"
      },
      "source": [
        "<a href=\"https://colab.research.google.com/github/zeiosis/ffnet-summary-prediction/blob/main/finalfinal_testing.ipynb\" target=\"_parent\"><img src=\"https://colab.research.google.com/assets/colab-badge.svg\" alt=\"Open In Colab\"/></a>"
      ]
    },
    {
      "cell_type": "code",
      "execution_count": 2,
      "metadata": {
        "colab": {
          "base_uri": "https://localhost:8080/"
        },
        "id": "jEtbpD9QBvBf",
        "outputId": "c86c0ef1-1498-4fa1-80c4-5179eb8f5fcd"
      },
      "outputs": [
        {
          "output_type": "stream",
          "name": "stdout",
          "text": [
            "Looking in indexes: https://pypi.org/simple, https://us-python.pkg.dev/colab-wheels/public/simple/\n",
            "Collecting transformers\n",
            "  Downloading transformers-4.20.0-py3-none-any.whl (4.4 MB)\n",
            "\u001b[K     |████████████████████████████████| 4.4 MB 33.7 MB/s \n",
            "\u001b[?25hCollecting tokenizers!=0.11.3,<0.13,>=0.11.1\n",
            "  Downloading tokenizers-0.12.1-cp37-cp37m-manylinux_2_12_x86_64.manylinux2010_x86_64.whl (6.6 MB)\n",
            "\u001b[K     |████████████████████████████████| 6.6 MB 27.8 MB/s \n",
            "\u001b[?25hRequirement already satisfied: regex!=2019.12.17 in /usr/local/lib/python3.7/dist-packages (from transformers) (2022.6.2)\n",
            "Requirement already satisfied: importlib-metadata in /usr/local/lib/python3.7/dist-packages (from transformers) (4.11.4)\n",
            "Requirement already satisfied: tqdm>=4.27 in /usr/local/lib/python3.7/dist-packages (from transformers) (4.64.0)\n",
            "Requirement already satisfied: packaging>=20.0 in /usr/local/lib/python3.7/dist-packages (from transformers) (21.3)\n",
            "Requirement already satisfied: filelock in /usr/local/lib/python3.7/dist-packages (from transformers) (3.7.1)\n",
            "Requirement already satisfied: numpy>=1.17 in /usr/local/lib/python3.7/dist-packages (from transformers) (1.21.6)\n",
            "Requirement already satisfied: requests in /usr/local/lib/python3.7/dist-packages (from transformers) (2.23.0)\n",
            "Collecting pyyaml>=5.1\n",
            "  Downloading PyYAML-6.0-cp37-cp37m-manylinux_2_5_x86_64.manylinux1_x86_64.manylinux_2_12_x86_64.manylinux2010_x86_64.whl (596 kB)\n",
            "\u001b[K     |████████████████████████████████| 596 kB 64.0 MB/s \n",
            "\u001b[?25hCollecting huggingface-hub<1.0,>=0.1.0\n",
            "  Downloading huggingface_hub-0.7.0-py3-none-any.whl (86 kB)\n",
            "\u001b[K     |████████████████████████████████| 86 kB 6.2 MB/s \n",
            "\u001b[?25hRequirement already satisfied: typing-extensions>=3.7.4.3 in /usr/local/lib/python3.7/dist-packages (from huggingface-hub<1.0,>=0.1.0->transformers) (4.1.1)\n",
            "Requirement already satisfied: pyparsing!=3.0.5,>=2.0.2 in /usr/local/lib/python3.7/dist-packages (from packaging>=20.0->transformers) (3.0.9)\n",
            "Requirement already satisfied: zipp>=0.5 in /usr/local/lib/python3.7/dist-packages (from importlib-metadata->transformers) (3.8.0)\n",
            "Requirement already satisfied: chardet<4,>=3.0.2 in /usr/local/lib/python3.7/dist-packages (from requests->transformers) (3.0.4)\n",
            "Requirement already satisfied: certifi>=2017.4.17 in /usr/local/lib/python3.7/dist-packages (from requests->transformers) (2022.6.15)\n",
            "Requirement already satisfied: idna<3,>=2.5 in /usr/local/lib/python3.7/dist-packages (from requests->transformers) (2.10)\n",
            "Requirement already satisfied: urllib3!=1.25.0,!=1.25.1,<1.26,>=1.21.1 in /usr/local/lib/python3.7/dist-packages (from requests->transformers) (1.24.3)\n",
            "Installing collected packages: pyyaml, tokenizers, huggingface-hub, transformers\n",
            "  Attempting uninstall: pyyaml\n",
            "    Found existing installation: PyYAML 3.13\n",
            "    Uninstalling PyYAML-3.13:\n",
            "      Successfully uninstalled PyYAML-3.13\n",
            "Successfully installed huggingface-hub-0.7.0 pyyaml-6.0 tokenizers-0.12.1 transformers-4.20.0\n"
          ]
        }
      ],
      "source": [
        "!pip install transformers"
      ]
    },
    {
      "cell_type": "code",
      "execution_count": 63,
      "metadata": {
        "id": "CSOROZi5Bqjk"
      },
      "outputs": [],
      "source": [
        "import pandas as pd\n",
        "from re import findall, sub\n",
        "import torch\n",
        "from transformers import pipeline\n",
        "\n",
        "try:\n",
        "    cuda_id = torch.cuda.current_device()\n",
        "except:\n",
        "    cuda_id = -1\n",
        "\n",
        "droplist = ['Crime',\n",
        " 'Fantasy',\n",
        " 'General',\n",
        " 'Horror',\n",
        " 'Mystery',\n",
        " 'Parody',\n",
        " 'Poetry',\n",
        " 'Sci_Fi',\n",
        " 'Spiritual',\n",
        " 'Supernatural',\n",
        " 'Suspense',\n",
        " 'Tragedy',\n",
        " 'Western']\n",
        "\n",
        "\n",
        "def webtext2dict(text):\n",
        "    slistlite = findall(r\"iews\\n.*\\nR\", text)\n",
        "    slist = []\n",
        "    for x in slistlite:\n",
        "        slist.append(x[5:len(x)-2])\n",
        "        \n",
        "    glistlite = findall(r\"h - .*? - C|h - Ch\", text)\n",
        "    glist = []\n",
        "    for x in glistlite:\n",
        "        glist.append(x[4:len(x)-4])\n",
        "    \n",
        "    sumgenr_dict = {}\n",
        "    for x in range(len(slist)):\n",
        "        sumgenr_dict[slist[x]] = glist[x]\n",
        "        \n",
        "    keyremoveset = set()\n",
        "    for key in sumgenr_dict:\n",
        "        if len(sumgenr_dict[key]) > 30:\n",
        "            keyremoveset.add(key)\n",
        "    \n",
        "    for x in keyremoveset:\n",
        "        sumgenr_dict.pop(x, None)\n",
        "\n",
        "    return sumgenr_dict\n",
        " \n",
        "\n",
        "def dictclean(inputdict):\n",
        "    #1st pass for Hurt/Comfort > Hurt_Comfort, s-f>s_f naming inconsistencies b/c vars dont support dashes\n",
        "    #2nd pass to get rid of other slashes (k/j > [k, j])\n",
        "\n",
        "    \n",
        "    hc_repl_list = []\n",
        "    \n",
        "    for key in inputdict:\n",
        "        if 'Hurt/Comfort' in inputdict[key]:\n",
        "            hc_repl_list.append(key)\n",
        "            \n",
        "    for x in hc_repl_list:\n",
        "        inputdict[x] = sub('Hurt/Comfort', 'Hurt_Comfort', inputdict[x])\n",
        "        \n",
        "        \n",
        "    sf_repl_list = []\n",
        "    \n",
        "    for key in inputdict:\n",
        "        if 'Sci-Fi' in inputdict[key]:\n",
        "            sf_repl_list.append(key)\n",
        "            \n",
        "    for x in sf_repl_list:\n",
        "        inputdict[x] = sub('Sci-Fi', 'Sci_Fi', inputdict[x])\n",
        "    \n",
        "    #1st pass done\n",
        "    \n",
        "    for key in inputdict:\n",
        "        inputdict[key] = inputdict[key].split('/')\n",
        "        \n",
        "    return inputdict\n",
        "        \n",
        "\n",
        "def ffdict_to_df(dfdict):\n",
        "    df = pd.DataFrame()\n",
        "    df = df.assign(Summary=0, Adventure=0, Angst=0, Crime=0, Drama=0, Family=0,\\\n",
        "                   Fantasy=0, Friendship=0, General=0, Horror=0, Humor=0,\\\n",
        "                   Hurt_Comfort=0, Mystery=0, Parody=0, Poetry=0, Romance=0,\\\n",
        "                   Sci_Fi=0, Spiritual=0, Supernatural=0, Suspense=0, Tragedy=0, Western=0) #works for ffnet.\n",
        "    for x in dfdict:\n",
        "        r2 = {}\n",
        "        r2['Summary'] = x\n",
        "        for values in dfdict[x]:\n",
        "            if values != '':\n",
        "                r2[values] = 1\n",
        "        df = df.append(r2, ignore_index=True)\n",
        "        \n",
        "    df = df.fillna(0)\n",
        "    return df\n",
        " \n",
        "\n",
        "class Summary:\n",
        "    def __init__(self, text, genre1, genre2, pred_genre1=None, pred_genre2=None):\n",
        "        self.text = text\n",
        "        self.genre1 = genre1\n",
        "        self.genre2 = genre2 # None for 1-tagged works\n",
        "        self.pred_genre1 = pred_genre1\n",
        "        self.pred_genre2 = pred_genre2\n",
        "\n",
        "    def pred_acc(self):\n",
        "        if self.genre2 == None:\n",
        "            if self.genre1 in [self.pred_genre1, self.pred_genre2]:\n",
        "                return '1t1r'\n",
        "            else:\n",
        "                return '1t0r'\n",
        "        else: #make sure self.genre1 is present\n",
        "            if self.genre1 in [self.pred_genre1, self.pred_genre2] and self.genre2 in [self.pred_genre1, self.pred_genre2]:\n",
        "                return '2t2r'\n",
        "            elif self.genre1 in [self.pred_genre1, self.pred_genre2] or self.genre2 in [self.pred_genre1, self.pred_genre2]:\n",
        "                return '2t1r'\n",
        "            else:\n",
        "                return '2t0r'\n",
        "    \n",
        "\n",
        "class FFWebtext:\n",
        "    def __init__(self, text=None, filename=None, content=None): # content is the only one used, others are options to write to it\n",
        "        if text == None: #use filename to content\n",
        "            self.filename = filename\n",
        "\n",
        "            f = open(self.filename, \"r\")\n",
        "            self.content = f.read()\n",
        "            f.close \n",
        "        \n",
        "        else: #text to content\n",
        "            self.content = text\n",
        "\n",
        "    def to_df(self, drop_rare=True): #drops rares by default \n",
        "        r1 = webtext2dict(self.content)\n",
        "        r1 = dictclean(r1)\n",
        "        df = ffdict_to_df(r1)\n",
        "    \n",
        "        if drop_rare == False:\n",
        "            return df\n",
        "        else:\n",
        "            df = df.drop(labels=droplist, axis=1)\n",
        "            return df\n",
        "    \n",
        "    def to_csv(self, filename):\n",
        "        df = self.to_df()\n",
        "        df.to_csv(filename, index=False) #no index, capital S summary\n",
        "\n",
        "    def to_dict(self, drop_rare=True):\n",
        "        r1 = webtext2dict(self.content)\n",
        "        r1 = dictclean(r1)\n",
        "        dellist = []\n",
        "        \n",
        "        if drop_rare == False:\n",
        "            print(1)\n",
        "            return r1\n",
        "        else:\n",
        "            print(2)\n",
        "            for x in r1:\n",
        "                try:\n",
        "                    if r1[x][0] in droplist or r1[x][1] in droplist:\n",
        "                        dellist.append(x)\n",
        "                    else:\n",
        "                        pass\n",
        "                except:\n",
        "                    if r1[x][0] in droplist:\n",
        "                        dellist.append(x)\n",
        "                    else:\n",
        "                        pass\n",
        "        \n",
        "        for x in dellist:\n",
        "            del r1[x]\n",
        "            \n",
        "        return r1\n",
        "\n",
        "    def to_summarylist(self, drop_rare=True):\n",
        "        summary_dict = self.to_dict(drop_rare=drop_rare)\n",
        "        summarylist = []\n",
        "\n",
        "        for x in summary_dict:\n",
        "            try:\n",
        "                summarylist.append(Summary(x, summary_dict[x][0], summary_dict[x][1]))\n",
        "            except:\n",
        "                summarylist.append(Summary(x, summary_dict[x][0], None))      \n",
        "\n",
        "        return summarylist #list of Summary objects to feed into SummarySet\n",
        "\n",
        "\n",
        "class SummarySet:\n",
        "    def __init__(self, summarylist=[]):\n",
        "        self.summarylist = summarylist\n",
        "    \n",
        "    def predict(self, model, revision=None, family='zdr'): #defaults to latest revision, as per HF API\n",
        "        summarylist = self.summarylist\n",
        "        if family == 'zdr':   \n",
        "            if revision == None:\n",
        "                classifier = pipeline(model=model, return_all_scores=True, device=cuda_id)\n",
        "            else: #defining classifier pipeline to be used \n",
        "                classifier = pipeline(model=model, revision=revision, return_all_scores=True, device=cuda_id)\n",
        "            \n",
        "            summary_text_list = [x.text for x in summarylist]\n",
        "            preds = classifier(summary_text_list)\n",
        "            preds_list = []\n",
        "\n",
        "            for x in preds:\n",
        "                sorted_probs = sorted(x, key=lambda n: n['score'], reverse=True)\n",
        "                preds_list.append([sorted_probs[0], sorted_probs[1]])\n",
        "\n",
        "            for x in range(len(summary_text_list)):\n",
        "                summarylist[x].pred_genre1 = preds_list[x][0]['label']\n",
        "                summarylist[x].pred_genre2 = preds_list[x][1]['label']\n",
        "\n",
        "            return summarylist\n",
        "        \n",
        "        else:\n",
        "            classifier = pipeline(model=model, device=cuda_id)\n",
        "            fsumlist = [x.text for x in summarylist]\n",
        "            \n",
        "            fromsum = classifier(\n",
        "                fsumlist,\n",
        "                candidate_labels=['Adventure', 'Angst', 'Drama', 'Family', 'Friendship',\n",
        "                'Humor', 'Hurt_Comfort', 'Romance']\n",
        "                )\n",
        "            \n",
        "\n",
        "            for x in range(len(fromsum)):\n",
        "              summarylist[x].pred_genre1 = str(fromsum[x]['labels'][0])\n",
        "              summarylist[x].pred_genre2 = str(fromsum[x]['labels'][1])\n",
        "\n",
        "            return summarylist\n",
        "\n",
        "    def accuracy(self):\n",
        "      summarylist = self.summarylist\n",
        "      c2t2r = 0\n",
        "      c2t1r = 0\n",
        "      c2t0r = 0\n",
        "      c1t1r = 0\n",
        "      c1t0r = 0\n",
        "\n",
        "      from collections import Counter\n",
        "\n",
        "      new_list = [x.pred_acc() for x in summarylist]\n",
        "\n",
        "      cn = Counter(new_list)\n",
        "      mz = {'2t2r':0, '1t1r':0, '2t1r':0, '1t0r':0, '2t0r':0}\n",
        "\n",
        "      for k,v in cn.items():\n",
        "        mz[k] = v\n",
        "      \n",
        "      retval = [[], []]\n",
        "\n",
        "      for key in mz:\n",
        "        retval[0].append(key)\n",
        "        retval[1].append(mz[key]) #append value to 2nd, append key to 1st\n",
        "      \n",
        "      return retval\n",
        "\n",
        "    def visual_acc(self, ret=False):\n",
        "      acclist = self.accuracy()\n",
        "      df = pd.DataFrame([acclist[1]], columns=acclist[0])\n",
        "      df = df.applymap(lambda x: x / len(self.summarylist) * 100)\n",
        "      if ret == False:\n",
        "        df.plot.barh(stacked=True, color={'2t2r':'blue', '1t1r':'green', '2t1r':'yellow', '1t0r':'red', '2t0r':'purple'})\n",
        "\n",
        "      else:\n",
        "        return df\n",
        "\n",
        "\n"
      ]
    },
    {
      "cell_type": "code",
      "execution_count": 64,
      "metadata": {
        "colab": {
          "base_uri": "https://localhost:8080/"
        },
        "id": "mt0bf5_VBxgv",
        "outputId": "30a6ef9e-8477-4b8a-f7d2-9b476f82b029"
      },
      "outputs": [
        {
          "output_type": "stream",
          "name": "stdout",
          "text": [
            "2\n"
          ]
        }
      ],
      "source": [
        "ffwt1 = FFWebtext(filename='ffdump7.txt')\n",
        "slist1 = ffwt1.to_summarylist()"
      ]
    },
    {
      "cell_type": "code",
      "execution_count": 65,
      "metadata": {
        "id": "Nny-vbSiJPTx"
      },
      "outputs": [],
      "source": [
        "ss1 = SummarySet(slist1)"
      ]
    },
    {
      "cell_type": "code",
      "execution_count": 66,
      "metadata": {
        "colab": {
          "base_uri": "https://localhost:8080/",
          "height": 105,
          "referenced_widgets": [
            "a57ecac6944142b8a2d11028319480cb",
            "47ff05e632cc4ab68e6489df1939d08b",
            "251d65d72ea04558b7e14e9509405f77",
            "f88e718bd8024a10b419e1ca8aa262b8",
            "aeeb603af3b543479e8e1180f570b833",
            "685d845baf4f4563b357688ce1df20aa",
            "675b46cbe461409b9835c19f87f79a7f",
            "030ebc868c6540778e29a874f0b20347",
            "6f4c8a836b8545238640a7e51eb7cdee",
            "2cd3b47ecd944624977d383d2213bb46",
            "a05cd3c6b17b41738e576b6479b83203"
          ]
        },
        "id": "NrYXYwq-PBWk",
        "outputId": "38ca871c-1a63-48b4-cea5-0c9e741780d6"
      },
      "outputs": [
        {
          "output_type": "display_data",
          "data": {
            "text/plain": [
              "Downloading:   0%|          | 0.00/2.78k [00:00<?, ?B/s]"
            ],
            "application/vnd.jupyter.widget-view+json": {
              "version_major": 2,
              "version_minor": 0,
              "model_id": "a57ecac6944142b8a2d11028319480cb"
            }
          },
          "metadata": {}
        },
        {
          "output_type": "stream",
          "name": "stderr",
          "text": [
            "/usr/local/lib/python3.7/dist-packages/transformers/pipelines/text_classification.py:90: UserWarning: `return_all_scores` is now deprecated, use `top_k=1` if you want similar functionnality\n",
            "  \"`return_all_scores` is now deprecated, use `top_k=1` if you want similar functionnality\", UserWarning\n"
          ]
        }
      ],
      "source": [
        "k0 = ss1.predict('zdreiosis/ff_analysis_5', revision='1454370')"
      ]
    },
    {
      "cell_type": "code",
      "execution_count": 67,
      "metadata": {
        "id": "jCdEDh0PXMHC",
        "colab": {
          "base_uri": "https://localhost:8080/",
          "height": 54
        },
        "outputId": "87484dcb-fc59-49ef-cdf7-c9d78489b4df"
      },
      "outputs": [
        {
          "output_type": "execute_result",
          "data": {
            "text/plain": [
              "'On the run criminal Cobra accidentally, by no means of his own volition, adopts a dragon? Yeah…that’s not disaster waiting to happen. A short-story of my two morally grey dragon slayers becoming bros ;)'"
            ],
            "application/vnd.google.colaboratory.intrinsic+json": {
              "type": "string"
            }
          },
          "metadata": {},
          "execution_count": 67
        }
      ],
      "source": [
        "ss1.summarylist[52].text"
      ]
    },
    {
      "cell_type": "code",
      "source": [
        "ss1.summarylist[52].pred_genre1"
      ],
      "metadata": {
        "colab": {
          "base_uri": "https://localhost:8080/",
          "height": 36
        },
        "id": "OZMqeQ9iekT6",
        "outputId": "3d0cde3e-e336-416f-e931-c0e0af90848e"
      },
      "execution_count": 68,
      "outputs": [
        {
          "output_type": "execute_result",
          "data": {
            "text/plain": [
              "'Romance'"
            ],
            "application/vnd.google.colaboratory.intrinsic+json": {
              "type": "string"
            }
          },
          "metadata": {},
          "execution_count": 68
        }
      ]
    },
    {
      "cell_type": "code",
      "source": [
        "ss1.summarylist[52].pred_genre2"
      ],
      "metadata": {
        "colab": {
          "base_uri": "https://localhost:8080/",
          "height": 36
        },
        "id": "e7KkHEs9vMRe",
        "outputId": "375e7efb-12b5-4dc2-a988-1a60b021be5e"
      },
      "execution_count": 69,
      "outputs": [
        {
          "output_type": "execute_result",
          "data": {
            "text/plain": [
              "'Friendship'"
            ],
            "application/vnd.google.colaboratory.intrinsic+json": {
              "type": "string"
            }
          },
          "metadata": {},
          "execution_count": 69
        }
      ]
    },
    {
      "cell_type": "code",
      "source": [
        "ss1.visual_acc()"
      ],
      "metadata": {
        "colab": {
          "base_uri": "https://localhost:8080/",
          "height": 265
        },
        "id": "8PCemCtbymAd",
        "outputId": "c51bb1c1-6d04-48d9-e8d6-ba429b5577dd"
      },
      "execution_count": 70,
      "outputs": [
        {
          "output_type": "display_data",
          "data": {
            "text/plain": [
              "<Figure size 432x288 with 1 Axes>"
            ],
            "image/png": "[encoded data removed]"
          },
          "metadata": {
            "needs_background": "light"
          }
        }
      ]
    },
    {
      "cell_type": "code",
      "source": [
        ""
      ],
      "metadata": {
        "id": "3LbXiNgOz_wJ"
      },
      "execution_count": null,
      "outputs": []
    }
  ],
  "metadata": {
    "accelerator": "GPU",
    "colab": {
      "name": "finalfinal_testing.ipynb",
      "provenance": [],
      "collapsed_sections": [],
      "authorship_tag": "ABX9TyOiKnzZUSmBaE1kHEMGKwTy",
      "include_colab_link": true
    },
    "gpuClass": "standard",
    "kernelspec": {
      "display_name": "Python 3",
      "name": "python3"
    },
    "language_info": {
      "name": "python"
    },
    "widgets": {
      "application/vnd.jupyter.widget-state+json": {
        "a57ecac6944142b8a2d11028319480cb": {
          "model_module": "@jupyter-widgets/controls",
          "model_name": "HBoxModel",
          "model_module_version": "1.5.0",
          "state": {
            "_dom_classes": [],
            "_model_module": "@jupyter-widgets/controls",
            "_model_module_version": "1.5.0",
            "_model_name": "HBoxModel",
            "_view_count": null,
            "_view_module": "@jupyter-widgets/controls",
            "_view_module_version": "1.5.0",
            "_view_name": "HBoxView",
            "box_style": "",
            "children": [
              "IPY_MODEL_47ff05e632cc4ab68e6489df1939d08b",
              "IPY_MODEL_251d65d72ea04558b7e14e9509405f77",
              "IPY_MODEL_f88e718bd8024a10b419e1ca8aa262b8"
            ],
            "layout": "IPY_MODEL_aeeb603af3b543479e8e1180f570b833"
          }
        },
        "47ff05e632cc4ab68e6489df1939d08b": {
          "model_module": "@jupyter-widgets/controls",
          "model_name": "HTMLModel",
          "model_module_version": "1.5.0",
          "state": {
            "_dom_classes": [],
            "_model_module": "@jupyter-widgets/controls",
            "_model_module_version": "1.5.0",
            "_model_name": "HTMLModel",
            "_view_count": null,
            "_view_module": "@jupyter-widgets/controls",
            "_view_module_version": "1.5.0",
            "_view_name": "HTMLView",
            "description": "",
            "description_tooltip": null,
            "layout": "IPY_MODEL_685d845baf4f4563b357688ce1df20aa",
            "placeholder": "​",
            "style": "IPY_MODEL_675b46cbe461409b9835c19f87f79a7f",
            "value": "Downloading: 100%"
          }
        },
        "251d65d72ea04558b7e14e9509405f77": {
          "model_module": "@jupyter-widgets/controls",
          "model_name": "FloatProgressModel",
          "model_module_version": "1.5.0",
          "state": {
            "_dom_classes": [],
            "_model_module": "@jupyter-widgets/controls",
            "_model_module_version": "1.5.0",
            "_model_name": "FloatProgressModel",
            "_view_count": null,
            "_view_module": "@jupyter-widgets/controls",
            "_view_module_version": "1.5.0",
            "_view_name": "ProgressView",
            "bar_style": "success",
            "description": "",
            "description_tooltip": null,
            "layout": "IPY_MODEL_030ebc868c6540778e29a874f0b20347",
            "max": 2844,
            "min": 0,
            "orientation": "horizontal",
            "style": "IPY_MODEL_6f4c8a836b8545238640a7e51eb7cdee",
            "value": 2844
          }
        },
        "f88e718bd8024a10b419e1ca8aa262b8": {
          "model_module": "@jupyter-widgets/controls",
          "model_name": "HTMLModel",
          "model_module_version": "1.5.0",
          "state": {
            "_dom_classes": [],
            "_model_module": "@jupyter-widgets/controls",
            "_model_module_version": "1.5.0",
            "_model_name": "HTMLModel",
            "_view_count": null,
            "_view_module": "@jupyter-widgets/controls",
            "_view_module_version": "1.5.0",
            "_view_name": "HTMLView",
            "description": "",
            "description_tooltip": null,
            "layout": "IPY_MODEL_2cd3b47ecd944624977d383d2213bb46",
            "placeholder": "​",
            "style": "IPY_MODEL_a05cd3c6b17b41738e576b6479b83203",
            "value": " 2.78k/2.78k [00:00&lt;00:00, 96.0kB/s]"
          }
        },
        "aeeb603af3b543479e8e1180f570b833": {
          "model_module": "@jupyter-widgets/base",
          "model_name": "LayoutModel",
          "model_module_version": "1.2.0",
          "state": {
            "_model_module": "@jupyter-widgets/base",
            "_model_module_version": "1.2.0",
            "_model_name": "LayoutModel",
            "_view_count": null,
            "_view_module": "@jupyter-widgets/base",
            "_view_module_version": "1.2.0",
            "_view_name": "LayoutView",
            "align_content": null,
            "align_items": null,
            "align_self": null,
            "border": null,
            "bottom": null,
            "display": null,
            "flex": null,
            "flex_flow": null,
            "grid_area": null,
            "grid_auto_columns": null,
            "grid_auto_flow": null,
            "grid_auto_rows": null,
            "grid_column": null,
            "grid_gap": null,
            "grid_row": null,
            "grid_template_areas": null,
            "grid_template_columns": null,
            "grid_template_rows": null,
            "height": null,
            "justify_content": null,
            "justify_items": null,
            "left": null,
            "margin": null,
            "max_height": null,
            "max_width": null,
            "min_height": null,
            "min_width": null,
            "object_fit": null,
            "object_position": null,
            "order": null,
            "overflow": null,
            "overflow_x": null,
            "overflow_y": null,
            "padding": null,
            "right": null,
            "top": null,
            "visibility": null,
            "width": null
          }
        },
        "685d845baf4f4563b357688ce1df20aa": {
          "model_module": "@jupyter-widgets/base",
          "model_name": "LayoutModel",
          "model_module_version": "1.2.0",
          "state": {
            "_model_module": "@jupyter-widgets/base",
            "_model_module_version": "1.2.0",
            "_model_name": "LayoutModel",
            "_view_count": null,
            "_view_module": "@jupyter-widgets/base",
            "_view_module_version": "1.2.0",
            "_view_name": "LayoutView",
            "align_content": null,
            "align_items": null,
            "align_self": null,
            "border": null,
            "bottom": null,
            "display": null,
            "flex": null,
            "flex_flow": null,
            "grid_area": null,
            "grid_auto_columns": null,
            "grid_auto_flow": null,
            "grid_auto_rows": null,
            "grid_column": null,
            "grid_gap": null,
            "grid_row": null,
            "grid_template_areas": null,
            "grid_template_columns": null,
            "grid_template_rows": null,
            "height": null,
            "justify_content": null,
            "justify_items": null,
            "left": null,
            "margin": null,
            "max_height": null,
            "max_width": null,
            "min_height": null,
            "min_width": null,
            "object_fit": null,
            "object_position": null,
            "order": null,
            "overflow": null,
            "overflow_x": null,
            "overflow_y": null,
            "padding": null,
            "right": null,
            "top": null,
            "visibility": null,
            "width": null
          }
        },
        "675b46cbe461409b9835c19f87f79a7f": {
          "model_module": "@jupyter-widgets/controls",
          "model_name": "DescriptionStyleModel",
          "model_module_version": "1.5.0",
          "state": {
            "_model_module": "@jupyter-widgets/controls",
            "_model_module_version": "1.5.0",
            "_model_name": "DescriptionStyleModel",
            "_view_count": null,
            "_view_module": "@jupyter-widgets/base",
            "_view_module_version": "1.2.0",
            "_view_name": "StyleView",
            "description_width": ""
          }
        },
        "030ebc868c6540778e29a874f0b20347": {
          "model_module": "@jupyter-widgets/base",
          "model_name": "LayoutModel",
          "model_module_version": "1.2.0",
          "state": {
            "_model_module": "@jupyter-widgets/base",
            "_model_module_version": "1.2.0",
            "_model_name": "LayoutModel",
            "_view_count": null,
            "_view_module": "@jupyter-widgets/base",
            "_view_module_version": "1.2.0",
            "_view_name": "LayoutView",
            "align_content": null,
            "align_items": null,
            "align_self": null,
            "border": null,
            "bottom": null,
            "display": null,
            "flex": null,
            "flex_flow": null,
            "grid_area": null,
            "grid_auto_columns": null,
            "grid_auto_flow": null,
            "grid_auto_rows": null,
            "grid_column": null,
            "grid_gap": null,
            "grid_row": null,
            "grid_template_areas": null,
            "grid_template_columns": null,
            "grid_template_rows": null,
            "height": null,
            "justify_content": null,
            "justify_items": null,
            "left": null,
            "margin": null,
            "max_height": null,
            "max_width": null,
            "min_height": null,
            "min_width": null,
            "object_fit": null,
            "object_position": null,
            "order": null,
            "overflow": null,
            "overflow_x": null,
            "overflow_y": null,
            "padding": null,
            "right": null,
            "top": null,
            "visibility": null,
            "width": null
          }
        },
        "6f4c8a836b8545238640a7e51eb7cdee": {
          "model_module": "@jupyter-widgets/controls",
          "model_name": "ProgressStyleModel",
          "model_module_version": "1.5.0",
          "state": {
            "_model_module": "@jupyter-widgets/controls",
            "_model_module_version": "1.5.0",
            "_model_name": "ProgressStyleModel",
            "_view_count": null,
            "_view_module": "@jupyter-widgets/base",
            "_view_module_version": "1.2.0",
            "_view_name": "StyleView",
            "bar_color": null,
            "description_width": ""
          }
        },
        "2cd3b47ecd944624977d383d2213bb46": {
          "model_module": "@jupyter-widgets/base",
          "model_name": "LayoutModel",
          "model_module_version": "1.2.0",
          "state": {
            "_model_module": "@jupyter-widgets/base",
            "_model_module_version": "1.2.0",
            "_model_name": "LayoutModel",
            "_view_count": null,
            "_view_module": "@jupyter-widgets/base",
            "_view_module_version": "1.2.0",
            "_view_name": "LayoutView",
            "align_content": null,
            "align_items": null,
            "align_self": null,
            "border": null,
            "bottom": null,
            "display": null,
            "flex": null,
            "flex_flow": null,
            "grid_area": null,
            "grid_auto_columns": null,
            "grid_auto_flow": null,
            "grid_auto_rows": null,
            "grid_column": null,
            "grid_gap": null,
            "grid_row": null,
            "grid_template_areas": null,
            "grid_template_columns": null,
            "grid_template_rows": null,
            "height": null,
            "justify_content": null,
            "justify_items": null,
            "left": null,
            "margin": null,
            "max_height": null,
            "max_width": null,
            "min_height": null,
            "min_width": null,
            "object_fit": null,
            "object_position": null,
            "order": null,
            "overflow": null,
            "overflow_x": null,
            "overflow_y": null,
            "padding": null,
            "right": null,
            "top": null,
            "visibility": null,
            "width": null
          }
        },
        "a05cd3c6b17b41738e576b6479b83203": {
          "model_module": "@jupyter-widgets/controls",
          "model_name": "DescriptionStyleModel",
          "model_module_version": "1.5.0",
          "state": {
            "_model_module": "@jupyter-widgets/controls",
            "_model_module_version": "1.5.0",
            "_model_name": "DescriptionStyleModel",
            "_view_count": null,
            "_view_module": "@jupyter-widgets/base",
            "_view_module_version": "1.2.0",
            "_view_name": "StyleView",
            "description_width": ""
          }
        }
      }
    }
  },
  "nbformat": 4,
  "nbformat_minor": 0
}